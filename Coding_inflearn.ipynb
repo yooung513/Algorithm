{
  "nbformat": 4,
  "nbformat_minor": 0,
  "metadata": {
    "colab": {
      "provenance": [],
      "authorship_tag": "ABX9TyPWBOvGC5PNQM/ZOGa5/kqw",
      "include_colab_link": true
    },
    "kernelspec": {
      "name": "python3",
      "display_name": "Python 3"
    },
    "language_info": {
      "name": "python"
    }
  },
  "cells": [
    {
      "cell_type": "markdown",
      "metadata": {
        "id": "view-in-github",
        "colab_type": "text"
      },
      "source": [
        "<a href=\"https://colab.research.google.com/github/yooung513/CodingTest/blob/main/Coding_inflearn.ipynb\" target=\"_parent\"><img src=\"https://colab.research.google.com/assets/colab-badge.svg\" alt=\"Open In Colab\"/></a>"
      ]
    },
    {
      "cell_type": "markdown",
      "source": [
        "# 파이썬 기초 문법"
      ],
      "metadata": {
        "id": "xXkVicZsnncQ"
      }
    },
    {
      "cell_type": "code",
      "execution_count": 1,
      "metadata": {
        "colab": {
          "base_uri": "https://localhost:8080/"
        },
        "id": "DR1aGY5vmXRM",
        "outputId": "eb10d37f-a54d-4e20-e16e-0ccd7b80fff5"
      },
      "outputs": [
        {
          "output_type": "execute_result",
          "data": {
            "text/plain": [
              "5"
            ]
          },
          "metadata": {},
          "execution_count": 1
        }
      ],
      "source": [
        "2+3"
      ]
    },
    {
      "cell_type": "code",
      "source": [
        "# 한 번에 여러 변수 대입 \n",
        "\n",
        "a, b, c = 3, 2, 1\n",
        "print(a,b,c)"
      ],
      "metadata": {
        "colab": {
          "base_uri": "https://localhost:8080/"
        },
        "id": "qMCfNQ9IqIzn",
        "outputId": "1ec33d12-371c-4570-ef94-07a07d70a0bd"
      },
      "execution_count": 2,
      "outputs": [
        {
          "output_type": "stream",
          "name": "stdout",
          "text": [
            "3 2 1\n"
          ]
        }
      ]
    },
    {
      "cell_type": "code",
      "source": [
        "# 값 교환\n",
        "\n",
        "a, b = 10, 20 \n",
        "print(a, b)\n",
        "\n",
        "a, b = b, a\n",
        "print(a, b)"
      ],
      "metadata": {
        "colab": {
          "base_uri": "https://localhost:8080/"
        },
        "id": "A8BMg2fxqKG2",
        "outputId": "d076edec-1af4-444c-8528-59c4f968415c"
      },
      "execution_count": 3,
      "outputs": [
        {
          "output_type": "stream",
          "name": "stdout",
          "text": [
            "10 20\n",
            "20 10\n"
          ]
        }
      ]
    },
    {
      "cell_type": "code",
      "source": [
        "# 변수 타입\n",
        "\n",
        "#정수형\n",
        "a = 12345\n",
        "print(type(a))\n",
        "\n",
        "#실수형\n",
        "a = 12.345\n",
        "print(type(a)) \n",
        "\n",
        "#문자형\n",
        "a = 'student'\n",
        "print(type(a)) "
      ],
      "metadata": {
        "colab": {
          "base_uri": "https://localhost:8080/"
        },
        "id": "5ChFTBROqWu0",
        "outputId": "c66123af-92e9-4932-c0f7-cbe1b19c2d52"
      },
      "execution_count": 6,
      "outputs": [
        {
          "output_type": "stream",
          "name": "stdout",
          "text": [
            "<class 'int'>\n",
            "<class 'float'>\n",
            "<class 'str'>\n"
          ]
        }
      ]
    },
    {
      "cell_type": "code",
      "source": [
        "# 출력방식\n",
        "\n",
        "print(\"number\")\n",
        "\n",
        "a, b, c=1, 2, 3\n",
        "print(a, b, c)\n",
        "print(\"number\", a, b, c)\n",
        "print(\"number :\", a, b, c)\n",
        "\n",
        "# 변수 사이 구분\n",
        "print(a,b,c, sep=', ')\n",
        "print(a,b,c, sep=',')\n",
        "print(a,b,c, sep='')\n",
        "print(a,b,c, sep='\\n') # 줄바꿈\n",
        "\n",
        "# 줄바꿈2\n",
        "print(\"********************************\")\n",
        "print(a)\n",
        "print(b)\n",
        "print(c)\n",
        "\n",
        "# 붙여서 출력\n",
        "print(\"********************************\")\n",
        "print(a, end='')\n",
        "print(b, end='')\n",
        "print(c)"
      ],
      "metadata": {
        "colab": {
          "base_uri": "https://localhost:8080/"
        },
        "id": "kFp0nd2sq0Fj",
        "outputId": "5839cc4d-266f-4c96-bb00-6c467c5128f8"
      },
      "execution_count": 16,
      "outputs": [
        {
          "output_type": "stream",
          "name": "stdout",
          "text": [
            "number\n",
            "1 2 3\n",
            "number 1 2 3\n",
            "number : 1 2 3\n",
            "1, 2, 3\n",
            "1,2,3\n",
            "123\n",
            "1\n",
            "2\n",
            "3\n",
            "********************************\n",
            "1\n",
            "2\n",
            "3\n",
            "********************************\n",
            "123\n"
          ]
        }
      ]
    },
    {
      "cell_type": "code",
      "source": [
        "'''\n",
        "a = input(\"숫자를 입력하세요 :\")\n",
        "print(a)\n",
        "\n",
        "# split() = 띄어쓰기로 숫자 구분\n",
        "a, b = input(\"숫자를 입력하세요 :\").split()\n",
        "print(a, b)\n",
        "print(a+b)\n",
        "print(type(a))\n",
        "\n",
        "#int로 변환 후 연산\n",
        "a, b = input(\"숫자를 입력하세요 :\").split()\n",
        "a = int(a)\n",
        "b = int(b)\n",
        "print(type(a))\n",
        "print(a+b)\n",
        "\n",
        "\n",
        "\n",
        "'''\n",
        "\n",
        "#int로 받기 -> map을 아용하여 정수화하여 저장\n",
        "a, b = map(int, input(\"숫자를 입력하세요 :\").split())\n",
        "print(type(a))\n",
        "print(a+b)\n",
        "print(a-b)\n",
        "print(a*b)\n",
        "print(a/b)\n",
        "print(a//b)   # 몫 연산\n",
        "print(a%b)    # 나머지 연산\n",
        "print(a**b)   # 거듭제곱 연산\n"
      ],
      "metadata": {
        "colab": {
          "base_uri": "https://localhost:8080/"
        },
        "id": "KL1jgv6TsgW7",
        "outputId": "56b946c6-0527-441f-c8c7-06bb39f05120"
      },
      "execution_count": 29,
      "outputs": [
        {
          "output_type": "stream",
          "name": "stdout",
          "text": [
            "숫자를 입력하세요 :5 3\n",
            "<class 'int'>\n",
            "8\n",
            "2\n",
            "15\n",
            "1.6666666666666667\n",
            "1\n",
            "2\n",
            "125\n"
          ]
        }
      ]
    },
    {
      "cell_type": "code",
      "source": [
        "# 참 == / 거짓 !=\n",
        "\n",
        "# x = 7\n",
        "x = 5\n",
        "\n",
        "if x == 7 : \n",
        "  print('Lucky')\n",
        "  print(\"ㅋㅋ\")   #들여쓰기 잘못하면 에러발생\n",
        "\n",
        "if x!=7 : \n",
        "  print(\"lucky~\")"
      ],
      "metadata": {
        "colab": {
          "base_uri": "https://localhost:8080/"
        },
        "id": "d2xFlR0mu5v2",
        "outputId": "de49088f-bf5f-4798-8ebd-6a1bd6605bd2"
      },
      "execution_count": 33,
      "outputs": [
        {
          "output_type": "stream",
          "name": "stdout",
          "text": [
            "lucky~\n"
          ]
        }
      ]
    },
    {
      "cell_type": "code",
      "source": [
        "# 중첩\n",
        "\n",
        "'''\n",
        "#x = 15\n",
        "#x = 12\n",
        "x = 9\n",
        "if x >= 10 : \n",
        "  if x % 2 == 1 :             # 나머지\n",
        "    print(\"10이상의 홀수\")\n",
        "\n",
        "\n",
        "x = 9\n",
        "if x > 0 : \n",
        "  if x < 10:\n",
        "     print(\"10보다 작은 자연수\")\n",
        "\n",
        "\n",
        "x = 7\n",
        "if x > 0 and x < 10 : \n",
        "  print(\"10보다 작은 자연수\")\n",
        "'''\n",
        "\n",
        "x = 7\n",
        "if 0 < x < 10 : \n",
        "  print(\"10보다 작은 자연수\")"
      ],
      "metadata": {
        "colab": {
          "base_uri": "https://localhost:8080/"
        },
        "id": "3gFwGBqyvb0N",
        "outputId": "ec30214b-d76c-4192-f5af-0703b1b60887"
      },
      "execution_count": 39,
      "outputs": [
        {
          "output_type": "stream",
          "name": "stdout",
          "text": [
            "10보다 작은 자연수\n"
          ]
        }
      ]
    },
    {
      "cell_type": "code",
      "source": [
        "# 분기\n",
        "\n",
        "#x = 10 \n",
        "x = -1\n",
        "\n",
        "if x > 0: \n",
        "  print(\"양수\")\n",
        "else :\n",
        "  print(\"음수\")"
      ],
      "metadata": {
        "colab": {
          "base_uri": "https://localhost:8080/"
        },
        "id": "wRaDjD0XwfrZ",
        "outputId": "fb114a31-e14a-4568-80c1-e19bb089586d"
      },
      "execution_count": 42,
      "outputs": [
        {
          "output_type": "stream",
          "name": "stdout",
          "text": [
            "음수\n"
          ]
        }
      ]
    },
    {
      "cell_type": "code",
      "source": [
        "# 다중 if문\n",
        "# 위에 하나먼저 걸리면 출력하고 끝남\n",
        "\n",
        "x = 80\n",
        "if x >= 90 : \n",
        "  print(\"A\")\n",
        "elif x >= 80 : \n",
        "  print(\"B\")\n",
        "elif x >= 70 : \n",
        "  print(\"C\")\n",
        "elif x >= 60 : \n",
        "  print(\"D\")\n",
        "else : \n",
        "  print(\"F\")"
      ],
      "metadata": {
        "colab": {
          "base_uri": "https://localhost:8080/"
        },
        "id": "B-s1ClvXx9cR",
        "outputId": "06f4a69a-ea02-4f9e-955f-d54389dae6c7"
      },
      "execution_count": 46,
      "outputs": [
        {
          "output_type": "stream",
          "name": "stdout",
          "text": [
            "B\n"
          ]
        }
      ]
    },
    {
      "cell_type": "code",
      "source": [
        "# 반복문 (for, while)\n",
        "\n",
        "# range = 어떤 범위까지의 정수를 리스트에 담음\n",
        "a = range(10)\n",
        "print(list(a))\n",
        "\n",
        "a = range(1, 10)\n",
        "print(list(a))"
      ],
      "metadata": {
        "colab": {
          "base_uri": "https://localhost:8080/"
        },
        "id": "qwuKNLMv2Cix",
        "outputId": "e465f9a3-95db-42e6-b58a-84c013cf7c98"
      },
      "execution_count": 49,
      "outputs": [
        {
          "output_type": "stream",
          "name": "stdout",
          "text": [
            "[0, 1, 2, 3, 4, 5, 6, 7, 8, 9]\n",
            "[1, 2, 3, 4, 5, 6, 7, 8, 9]\n"
          ]
        }
      ]
    },
    {
      "cell_type": "code",
      "source": [
        "for i in range(10): \n",
        "  print(\"hello\")\n",
        "  print(i)"
      ],
      "metadata": {
        "colab": {
          "base_uri": "https://localhost:8080/"
        },
        "id": "AQ52tkFC2nQv",
        "outputId": "214b6a67-5bb3-464c-ca5a-47de720eb9ba"
      },
      "execution_count": 52,
      "outputs": [
        {
          "output_type": "stream",
          "name": "stdout",
          "text": [
            "hello\n",
            "0\n",
            "hello\n",
            "1\n",
            "hello\n",
            "2\n",
            "hello\n",
            "3\n",
            "hello\n",
            "4\n",
            "hello\n",
            "5\n",
            "hello\n",
            "6\n",
            "hello\n",
            "7\n",
            "hello\n",
            "8\n",
            "hello\n",
            "9\n"
          ]
        }
      ]
    },
    {
      "cell_type": "code",
      "source": [
        "for i in range(10, 0, -1) : \n",
        "  print(i)"
      ],
      "metadata": {
        "colab": {
          "base_uri": "https://localhost:8080/"
        },
        "id": "HKDoo1DU2-Vl",
        "outputId": "d6c80221-757a-412e-9a27-caca7d29a6f6"
      },
      "execution_count": 54,
      "outputs": [
        {
          "output_type": "stream",
          "name": "stdout",
          "text": [
            "10\n",
            "9\n",
            "8\n",
            "7\n",
            "6\n",
            "5\n",
            "4\n",
            "3\n",
            "2\n",
            "1\n"
          ]
        }
      ]
    },
    {
      "cell_type": "code",
      "source": [
        "i = 1\n",
        "while i<=10:\n",
        "  print(i)\n",
        "  i = i+1"
      ],
      "metadata": {
        "colab": {
          "base_uri": "https://localhost:8080/"
        },
        "id": "TKfheFMv3LC2",
        "outputId": "14576c29-48b5-4c93-984d-5163c86e684c"
      },
      "execution_count": 55,
      "outputs": [
        {
          "output_type": "stream",
          "name": "stdout",
          "text": [
            "1\n",
            "2\n",
            "3\n",
            "4\n",
            "5\n",
            "6\n",
            "7\n",
            "8\n",
            "9\n",
            "10\n"
          ]
        }
      ]
    },
    {
      "cell_type": "code",
      "source": [
        "i = 10\n",
        "while i>=1 :\n",
        "  print(i)\n",
        "  i=i-1"
      ],
      "metadata": {
        "colab": {
          "base_uri": "https://localhost:8080/"
        },
        "id": "MfZDoqhB3zfW",
        "outputId": "c5e35e84-fa5c-4623-f933-1b7837481cde"
      },
      "execution_count": 56,
      "outputs": [
        {
          "output_type": "stream",
          "name": "stdout",
          "text": [
            "10\n",
            "9\n",
            "8\n",
            "7\n",
            "6\n",
            "5\n",
            "4\n",
            "3\n",
            "2\n",
            "1\n"
          ]
        }
      ]
    },
    {
      "cell_type": "code",
      "source": [
        "i = 1\n",
        "while True : \n",
        "  print(i)\n",
        "  if i == 10 :\n",
        "    break\n",
        "  i += 1\n",
        "\n",
        "i = 1\n",
        "while True : \n",
        "  print(i)\n",
        "  i += 1\n",
        "  if i == 10 :\n",
        "    break\n",
        "  "
      ],
      "metadata": {
        "colab": {
          "base_uri": "https://localhost:8080/"
        },
        "id": "39XhmKia384F",
        "outputId": "01a7d0c1-5c4c-40d0-e50e-322569934f0d"
      },
      "execution_count": 58,
      "outputs": [
        {
          "output_type": "stream",
          "name": "stdout",
          "text": [
            "1\n",
            "2\n",
            "3\n",
            "4\n",
            "5\n",
            "6\n",
            "7\n",
            "8\n",
            "9\n",
            "10\n",
            "1\n",
            "2\n",
            "3\n",
            "4\n",
            "5\n",
            "6\n",
            "7\n",
            "8\n",
            "9\n"
          ]
        }
      ]
    },
    {
      "cell_type": "code",
      "source": [
        "for i in range(1, 11) : \n",
        "  if i % 2 == 0 : # 짝수\n",
        "    continue\n",
        "  print(i)"
      ],
      "metadata": {
        "colab": {
          "base_uri": "https://localhost:8080/"
        },
        "id": "Mp69Igdf4fkt",
        "outputId": "58b3c3ff-ab1b-48dd-8826-2d7319135900"
      },
      "execution_count": 59,
      "outputs": [
        {
          "output_type": "stream",
          "name": "stdout",
          "text": [
            "1\n",
            "3\n",
            "5\n",
            "7\n",
            "9\n"
          ]
        }
      ]
    },
    {
      "cell_type": "code",
      "source": [
        "for i in range(1,11) :\n",
        "  print(i)\n",
        "  if i == 5 :\n",
        "    break\n",
        "else : \n",
        "  print(\"출력\")           # 중간에 강제 break로 else로 빠지지 않음"
      ],
      "metadata": {
        "colab": {
          "base_uri": "https://localhost:8080/"
        },
        "id": "ipLpKaIQ41KF",
        "outputId": "ff49adda-e9d3-496d-c45f-9ed1e67f8314"
      },
      "execution_count": 63,
      "outputs": [
        {
          "output_type": "stream",
          "name": "stdout",
          "text": [
            "1\n",
            "2\n",
            "3\n",
            "4\n",
            "5\n"
          ]
        }
      ]
    },
    {
      "cell_type": "code",
      "source": [
        "for i in range(1,11) :\n",
        "  print(i)\n",
        "else : \n",
        "  print(\"출력\")           # 정상적으로 구문이 완료되면 else문으로 빠짐"
      ],
      "metadata": {
        "colab": {
          "base_uri": "https://localhost:8080/"
        },
        "id": "GwjFlwLP5QnV",
        "outputId": "2e46a438-00a1-4a32-baf6-99be513f7e4f"
      },
      "execution_count": 66,
      "outputs": [
        {
          "output_type": "stream",
          "name": "stdout",
          "text": [
            "1\n",
            "2\n",
            "3\n",
            "4\n",
            "5\n",
            "6\n",
            "7\n",
            "8\n",
            "9\n",
            "10\n",
            "출력\n"
          ]
        }
      ]
    },
    {
      "cell_type": "code",
      "source": [
        "# 1. 1부터 N까지 홀수 출력하기\n",
        "# 강의랑 동일\n",
        "\n",
        "n = int(input())\n",
        "for i in range(1, n+1) :\n",
        "  if i % 2 == 1 : \n",
        "    print(i)"
      ],
      "metadata": {
        "colab": {
          "base_uri": "https://localhost:8080/"
        },
        "id": "RPMfILtW5xD-",
        "outputId": "ce96c722-562f-4a11-b457-d38e2dff7e54"
      },
      "execution_count": 69,
      "outputs": [
        {
          "output_type": "stream",
          "name": "stdout",
          "text": [
            "11\n",
            "1\n",
            "3\n",
            "5\n",
            "7\n",
            "9\n",
            "11\n"
          ]
        }
      ]
    },
    {
      "cell_type": "code",
      "source": [
        "# 2. 1부터 N까지의 합 구하기\n",
        "# 강의랑 동일\n",
        "\n",
        "n = int(input())\n",
        "sum = 0\n",
        "for i in range(1, n+1) :\n",
        "  sum += i                # sum = sum+i 표현식도 있음\n",
        "print(sum)"
      ],
      "metadata": {
        "colab": {
          "base_uri": "https://localhost:8080/"
        },
        "id": "0F6pWVwb6uFN",
        "outputId": "d97977e4-0c16-4aab-a416-ee900ec3b945"
      },
      "execution_count": 70,
      "outputs": [
        {
          "output_type": "stream",
          "name": "stdout",
          "text": [
            "10\n",
            "55\n"
          ]
        }
      ]
    },
    {
      "cell_type": "code",
      "source": [
        "# 3. n의 약수 출력하기\n",
        "# 나의 방법\n",
        "n = int(input())\n",
        "for i in range(1, n+1) :\n",
        "  for j in range(1, n+1) :\n",
        "    if i*j == n :\n",
        "      print(i, end=\" \")"
      ],
      "metadata": {
        "colab": {
          "base_uri": "https://localhost:8080/"
        },
        "id": "XR_lZpm67LK8",
        "outputId": "05135b5b-af58-4d78-e247-e9638a5bb498"
      },
      "execution_count": 79,
      "outputs": [
        {
          "output_type": "stream",
          "name": "stdout",
          "text": [
            "20\n",
            "1 2 4 5 10 20 "
          ]
        }
      ]
    },
    {
      "cell_type": "code",
      "source": [
        "# 강의\n",
        "n = int(input())\n",
        "for i in range(1, n+1) :\n",
        "  if n%i == 0:\n",
        "    print(i, end=\" \")"
      ],
      "metadata": {
        "colab": {
          "base_uri": "https://localhost:8080/"
        },
        "id": "CNj206cW72rV",
        "outputId": "2ce42c3f-aa88-4dc4-e1fb-f11a5e752a0b"
      },
      "execution_count": 80,
      "outputs": [
        {
          "output_type": "stream",
          "name": "stdout",
          "text": [
            "20\n",
            "1 2 4 5 10 20 "
          ]
        }
      ]
    },
    {
      "cell_type": "code",
      "source": [
        "for i in range(5) :\n",
        "  for j in range(5) :\n",
        "    print(j, end=\" \")\n",
        "  print()           # 줄바꿈"
      ],
      "metadata": {
        "colab": {
          "base_uri": "https://localhost:8080/"
        },
        "id": "fR3lncnl89gN",
        "outputId": "65485bb3-a95d-4a20-eac8-b31320d2e94d"
      },
      "execution_count": 81,
      "outputs": [
        {
          "output_type": "stream",
          "name": "stdout",
          "text": [
            "0 1 2 3 4 \n",
            "0 1 2 3 4 \n",
            "0 1 2 3 4 \n",
            "0 1 2 3 4 \n",
            "0 1 2 3 4 \n"
          ]
        }
      ]
    },
    {
      "cell_type": "code",
      "source": [
        "for i in range(5) :\n",
        "  print(\"i :\", i, sep='', end=\" \")\n",
        "  for j in range(5) :\n",
        "    print(\"j :\", j, sep='', end=\" \")\n",
        "  print()"
      ],
      "metadata": {
        "colab": {
          "base_uri": "https://localhost:8080/"
        },
        "id": "-RGtNQFe9ODz",
        "outputId": "bc71a570-a0b7-48bb-e1b7-bdb0b5105593"
      },
      "execution_count": 83,
      "outputs": [
        {
          "output_type": "stream",
          "name": "stdout",
          "text": [
            "i :0 j :0 j :1 j :2 j :3 j :4 \n",
            "i :1 j :0 j :1 j :2 j :3 j :4 \n",
            "i :2 j :0 j :1 j :2 j :3 j :4 \n",
            "i :3 j :0 j :1 j :2 j :3 j :4 \n",
            "i :4 j :0 j :1 j :2 j :3 j :4 \n"
          ]
        }
      ]
    },
    {
      "cell_type": "code",
      "source": [
        "for i in range(5) :\n",
        "  for j in range(5) :\n",
        "    print(\"*\", end=\" \")\n",
        "  print() "
      ],
      "metadata": {
        "colab": {
          "base_uri": "https://localhost:8080/"
        },
        "id": "E2RiPqIm9iZa",
        "outputId": "df31ba49-c594-49af-8529-803d336d1642"
      },
      "execution_count": 84,
      "outputs": [
        {
          "output_type": "stream",
          "name": "stdout",
          "text": [
            "* * * * * \n",
            "* * * * * \n",
            "* * * * * \n",
            "* * * * * \n",
            "* * * * * \n"
          ]
        }
      ]
    },
    {
      "cell_type": "code",
      "source": [
        "for i in range(5) :       # 세로\n",
        "  for j in range(i+1) :   # 가로\n",
        "    print(\"*\", end=\" \")\n",
        "  print() "
      ],
      "metadata": {
        "colab": {
          "base_uri": "https://localhost:8080/"
        },
        "id": "z_tuPEe99wKD",
        "outputId": "6ea39c3e-8baa-4ba8-8cdd-578ab99a430c"
      },
      "execution_count": 86,
      "outputs": [
        {
          "output_type": "stream",
          "name": "stdout",
          "text": [
            "* \n",
            "* * \n",
            "* * * \n",
            "* * * * \n",
            "* * * * * \n"
          ]
        }
      ]
    },
    {
      "cell_type": "code",
      "source": [
        "for i in range(5, 0, -1) :\n",
        "  for j in range(i) :\n",
        "    print(\"*\", end=\" \")\n",
        "  print() \n",
        "\n",
        "print() \n",
        "print(\"------------------------------\")\n",
        "print() \n",
        "\n",
        "for i in range(5) :\n",
        "  for j in range(5-i) :\n",
        "    print(\"*\", end = \" \")\n",
        "  print()"
      ],
      "metadata": {
        "colab": {
          "base_uri": "https://localhost:8080/"
        },
        "id": "I-bXJIil-HK9",
        "outputId": "434b028f-708d-4af9-a2a0-098eec2c7308"
      },
      "execution_count": 93,
      "outputs": [
        {
          "output_type": "stream",
          "name": "stdout",
          "text": [
            "* * * * * \n",
            "* * * * \n",
            "* * * \n",
            "* * \n",
            "* \n",
            "\n",
            "------------------------------\n",
            "\n",
            "* * * * * \n",
            "* * * * \n",
            "* * * \n",
            "* * \n",
            "* \n"
          ]
        }
      ]
    },
    {
      "cell_type": "code",
      "source": [
        "# 문자열과 내장함수\n",
        "\n",
        "msg = \"It is Time\"\n",
        "print(msg.upper())  #대문자\n",
        "print(msg.lower())  #소문자\n",
        "print(msg)          #변하는 것은 아님\n",
        "\n",
        "print() \n",
        "print(\"------------------------------\")\n",
        "print() \n",
        "\n",
        "tmp = msg.upper()\n",
        "print(tmp)\n",
        "print(tmp.find('T'))    #find : 글자의 인덱스 출력 (첫 번째 해당 글자)\n",
        "print(tmp.count('T'))   #count : 글자의 개수 출력\n",
        "\n",
        "print() \n",
        "print(\"------------------------------\")\n",
        "print() \n",
        "\n",
        "print(msg)\n",
        "print(msg[:2])          #슬라이스 : 문장의 인덱스 순서 -1 까지 출력 (2 > 1까지)\n",
        "print(msg[3:5])\n",
        "\n",
        "print() \n",
        "print(\"------------------------------\")\n",
        "print() \n",
        "\n",
        "print(len(msg))\n",
        "for i in range(len(msg)) :\n",
        "  print(msg[i], end = \" \")\n",
        "\n",
        "print()\n",
        "\n",
        "for x in msg : \n",
        "  print(x, end = \"\")\n",
        "\n",
        "print() \n",
        "print(\"------------------------------\")\n",
        "print() \n",
        "\n",
        "for x in msg : \n",
        "  if x.isupper() :\n",
        "    print(x, end = \" \")\n",
        "\n",
        "print() \n",
        "\n",
        "for x in msg : \n",
        "  if x.islower() :\n",
        "    print(x, end = \" \")\n",
        "\n"
      ],
      "metadata": {
        "colab": {
          "base_uri": "https://localhost:8080/"
        },
        "id": "gwMW-c9q_GCS",
        "outputId": "e7c108a8-4f8d-4249-fcea-735bb1bc9a3c"
      },
      "execution_count": 110,
      "outputs": [
        {
          "output_type": "stream",
          "name": "stdout",
          "text": [
            "IT IS TIME\n",
            "it is time\n",
            "It is Time\n",
            "\n",
            "------------------------------\n",
            "\n",
            "IT IS TIME\n",
            "1\n",
            "2\n",
            "\n",
            "------------------------------\n",
            "\n",
            "It is Time\n",
            "It\n",
            "is\n",
            "\n",
            "------------------------------\n",
            "\n",
            "10\n",
            "I t   i s   T i m e \n",
            "It is Time\n",
            "------------------------------\n",
            "\n",
            "I T \n",
            "t i s i m e "
          ]
        }
      ]
    },
    {
      "cell_type": "code",
      "source": [
        "#공백 제거\n",
        "msg = \"It is Time\"\n",
        "\n",
        "for x in msg : \n",
        "  if x.isalpha() :      # isalpha : 알파벳인 경우에만 참\n",
        "    print(x, end = \"\")"
      ],
      "metadata": {
        "colab": {
          "base_uri": "https://localhost:8080/"
        },
        "id": "wrhxfxi-BmPZ",
        "outputId": "ad336109-0e97-4aea-a0d8-5a2ffacd4d07"
      },
      "execution_count": 112,
      "outputs": [
        {
          "output_type": "stream",
          "name": "stdout",
          "text": [
            "ItisTime"
          ]
        }
      ]
    },
    {
      "cell_type": "code",
      "source": [
        "#아스키 넘버"
      ],
      "metadata": {
        "id": "mP7cqMr9B-2t"
      },
      "execution_count": null,
      "outputs": []
    },
    {
      "cell_type": "markdown",
      "source": [],
      "metadata": {
        "id": "oNc2GJjCItRu"
      }
    }
  ]
}