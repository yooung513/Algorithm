{
  "nbformat": 4,
  "nbformat_minor": 0,
  "metadata": {
    "colab": {
      "provenance": [],
      "authorship_tag": "ABX9TyMdwTURXu5gWSLWGtKCw4Q0",
      "include_colab_link": true
    },
    "kernelspec": {
      "name": "python3",
      "display_name": "Python 3"
    },
    "language_info": {
      "name": "python"
    }
  },
  "cells": [
    {
      "cell_type": "markdown",
      "metadata": {
        "id": "view-in-github",
        "colab_type": "text"
      },
      "source": [
        "<a href=\"https://colab.research.google.com/github/yooung513/CodingTest/blob/main/Coding_inflearn.ipynb\" target=\"_parent\"><img src=\"https://colab.research.google.com/assets/colab-badge.svg\" alt=\"Open In Colab\"/></a>"
      ]
    },
    {
      "cell_type": "markdown",
      "source": [
        "# 파이썬 기초 문법"
      ],
      "metadata": {
        "id": "xXkVicZsnncQ"
      }
    },
    {
      "cell_type": "code",
      "execution_count": null,
      "metadata": {
        "colab": {
          "base_uri": "https://localhost:8080/"
        },
        "id": "DR1aGY5vmXRM",
        "outputId": "eb10d37f-a54d-4e20-e16e-0ccd7b80fff5"
      },
      "outputs": [
        {
          "output_type": "execute_result",
          "data": {
            "text/plain": [
              "5"
            ]
          },
          "metadata": {},
          "execution_count": 1
        }
      ],
      "source": [
        "2+3"
      ]
    },
    {
      "cell_type": "code",
      "source": [
        "# 한 번에 여러 변수 대입 \n",
        "\n",
        "a, b, c = 3, 2, 1\n",
        "print(a,b,c)"
      ],
      "metadata": {
        "colab": {
          "base_uri": "https://localhost:8080/"
        },
        "id": "qMCfNQ9IqIzn",
        "outputId": "1ec33d12-371c-4570-ef94-07a07d70a0bd"
      },
      "execution_count": null,
      "outputs": [
        {
          "output_type": "stream",
          "name": "stdout",
          "text": [
            "3 2 1\n"
          ]
        }
      ]
    },
    {
      "cell_type": "code",
      "source": [
        "# 값 교환\n",
        "\n",
        "a, b = 10, 20 \n",
        "print(a, b)\n",
        "\n",
        "a, b = b, a\n",
        "print(a, b)"
      ],
      "metadata": {
        "colab": {
          "base_uri": "https://localhost:8080/"
        },
        "id": "A8BMg2fxqKG2",
        "outputId": "d076edec-1af4-444c-8528-59c4f968415c"
      },
      "execution_count": null,
      "outputs": [
        {
          "output_type": "stream",
          "name": "stdout",
          "text": [
            "10 20\n",
            "20 10\n"
          ]
        }
      ]
    },
    {
      "cell_type": "code",
      "source": [
        "# 변수 타입\n",
        "\n",
        "#정수형\n",
        "a = 12345\n",
        "print(type(a))\n",
        "\n",
        "#실수형\n",
        "a = 12.345\n",
        "print(type(a)) \n",
        "\n",
        "#문자형\n",
        "a = 'student'\n",
        "print(type(a)) "
      ],
      "metadata": {
        "colab": {
          "base_uri": "https://localhost:8080/"
        },
        "id": "5ChFTBROqWu0",
        "outputId": "c66123af-92e9-4932-c0f7-cbe1b19c2d52"
      },
      "execution_count": null,
      "outputs": [
        {
          "output_type": "stream",
          "name": "stdout",
          "text": [
            "<class 'int'>\n",
            "<class 'float'>\n",
            "<class 'str'>\n"
          ]
        }
      ]
    },
    {
      "cell_type": "code",
      "source": [
        "# 출력방식\n",
        "\n",
        "print(\"number\")\n",
        "\n",
        "a, b, c=1, 2, 3\n",
        "print(a, b, c)\n",
        "print(\"number\", a, b, c)\n",
        "print(\"number :\", a, b, c)\n",
        "\n",
        "# 변수 사이 구분\n",
        "print(a,b,c, sep=', ')\n",
        "print(a,b,c, sep=',')\n",
        "print(a,b,c, sep='')\n",
        "print(a,b,c, sep='\\n') # 줄바꿈\n",
        "\n",
        "# 줄바꿈2\n",
        "print(\"********************************\")\n",
        "print(a)\n",
        "print(b)\n",
        "print(c)\n",
        "\n",
        "# 붙여서 출력\n",
        "print(\"********************************\")\n",
        "print(a, end='')\n",
        "print(b, end='')\n",
        "print(c)"
      ],
      "metadata": {
        "colab": {
          "base_uri": "https://localhost:8080/"
        },
        "id": "kFp0nd2sq0Fj",
        "outputId": "5839cc4d-266f-4c96-bb00-6c467c5128f8"
      },
      "execution_count": null,
      "outputs": [
        {
          "output_type": "stream",
          "name": "stdout",
          "text": [
            "number\n",
            "1 2 3\n",
            "number 1 2 3\n",
            "number : 1 2 3\n",
            "1, 2, 3\n",
            "1,2,3\n",
            "123\n",
            "1\n",
            "2\n",
            "3\n",
            "********************************\n",
            "1\n",
            "2\n",
            "3\n",
            "********************************\n",
            "123\n"
          ]
        }
      ]
    },
    {
      "cell_type": "code",
      "source": [
        "'''\n",
        "a = input(\"숫자를 입력하세요 :\")\n",
        "print(a)\n",
        "\n",
        "# split() = 띄어쓰기로 숫자 구분\n",
        "a, b = input(\"숫자를 입력하세요 :\").split()\n",
        "print(a, b)\n",
        "print(a+b)\n",
        "print(type(a))\n",
        "\n",
        "#int로 변환 후 연산\n",
        "a, b = input(\"숫자를 입력하세요 :\").split()\n",
        "a = int(a)\n",
        "b = int(b)\n",
        "print(type(a))\n",
        "print(a+b)\n",
        "\n",
        "\n",
        "\n",
        "'''\n",
        "\n",
        "#int로 받기 -> map을 아용하여 정수화하여 저장\n",
        "a, b = map(int, input(\"숫자를 입력하세요 :\").split())\n",
        "print(type(a))\n",
        "print(a+b)\n",
        "print(a-b)\n",
        "print(a*b)\n",
        "print(a/b)\n",
        "print(a//b)   # 몫 연산\n",
        "print(a%b)    # 나머지 연산\n",
        "print(a**b)   # 거듭제곱 연산\n"
      ],
      "metadata": {
        "colab": {
          "base_uri": "https://localhost:8080/"
        },
        "id": "KL1jgv6TsgW7",
        "outputId": "56b946c6-0527-441f-c8c7-06bb39f05120"
      },
      "execution_count": null,
      "outputs": [
        {
          "output_type": "stream",
          "name": "stdout",
          "text": [
            "숫자를 입력하세요 :5 3\n",
            "<class 'int'>\n",
            "8\n",
            "2\n",
            "15\n",
            "1.6666666666666667\n",
            "1\n",
            "2\n",
            "125\n"
          ]
        }
      ]
    },
    {
      "cell_type": "code",
      "source": [
        "# 참 == / 거짓 !=\n",
        "\n",
        "# x = 7\n",
        "x = 5\n",
        "\n",
        "if x == 7 : \n",
        "  print('Lucky')\n",
        "  print(\"ㅋㅋ\")   #들여쓰기 잘못하면 에러발생\n",
        "\n",
        "if x!=7 : \n",
        "  print(\"lucky~\")"
      ],
      "metadata": {
        "colab": {
          "base_uri": "https://localhost:8080/"
        },
        "id": "d2xFlR0mu5v2",
        "outputId": "de49088f-bf5f-4798-8ebd-6a1bd6605bd2"
      },
      "execution_count": null,
      "outputs": [
        {
          "output_type": "stream",
          "name": "stdout",
          "text": [
            "lucky~\n"
          ]
        }
      ]
    },
    {
      "cell_type": "code",
      "source": [
        "# 중첩\n",
        "\n",
        "'''\n",
        "#x = 15\n",
        "#x = 12\n",
        "x = 9\n",
        "if x >= 10 : \n",
        "  if x % 2 == 1 :             # 나머지\n",
        "    print(\"10이상의 홀수\")\n",
        "\n",
        "\n",
        "x = 9\n",
        "if x > 0 : \n",
        "  if x < 10:\n",
        "     print(\"10보다 작은 자연수\")\n",
        "\n",
        "\n",
        "x = 7\n",
        "if x > 0 and x < 10 : \n",
        "  print(\"10보다 작은 자연수\")\n",
        "'''\n",
        "\n",
        "x = 7\n",
        "if 0 < x < 10 : \n",
        "  print(\"10보다 작은 자연수\")"
      ],
      "metadata": {
        "colab": {
          "base_uri": "https://localhost:8080/"
        },
        "id": "3gFwGBqyvb0N",
        "outputId": "ec30214b-d76c-4192-f5af-0703b1b60887"
      },
      "execution_count": null,
      "outputs": [
        {
          "output_type": "stream",
          "name": "stdout",
          "text": [
            "10보다 작은 자연수\n"
          ]
        }
      ]
    },
    {
      "cell_type": "code",
      "source": [
        "# 분기\n",
        "\n",
        "#x = 10 \n",
        "x = -1\n",
        "\n",
        "if x > 0: \n",
        "  print(\"양수\")\n",
        "else :\n",
        "  print(\"음수\")"
      ],
      "metadata": {
        "colab": {
          "base_uri": "https://localhost:8080/"
        },
        "id": "wRaDjD0XwfrZ",
        "outputId": "fb114a31-e14a-4568-80c1-e19bb089586d"
      },
      "execution_count": null,
      "outputs": [
        {
          "output_type": "stream",
          "name": "stdout",
          "text": [
            "음수\n"
          ]
        }
      ]
    },
    {
      "cell_type": "code",
      "source": [
        "# 다중 if문\n",
        "# 위에 하나먼저 걸리면 출력하고 끝남\n",
        "\n",
        "x = 80\n",
        "if x >= 90 : \n",
        "  print(\"A\")\n",
        "elif x >= 80 : \n",
        "  print(\"B\")\n",
        "elif x >= 70 : \n",
        "  print(\"C\")\n",
        "elif x >= 60 : \n",
        "  print(\"D\")\n",
        "else : \n",
        "  print(\"F\")"
      ],
      "metadata": {
        "colab": {
          "base_uri": "https://localhost:8080/"
        },
        "id": "B-s1ClvXx9cR",
        "outputId": "06f4a69a-ea02-4f9e-955f-d54389dae6c7"
      },
      "execution_count": null,
      "outputs": [
        {
          "output_type": "stream",
          "name": "stdout",
          "text": [
            "B\n"
          ]
        }
      ]
    },
    {
      "cell_type": "code",
      "source": [
        "# 반복문 (for, while)\n",
        "\n",
        "# range = 어떤 범위까지의 정수를 리스트에 담음\n",
        "a = range(10)\n",
        "print(list(a))\n",
        "\n",
        "a = range(1, 10)\n",
        "print(list(a))"
      ],
      "metadata": {
        "colab": {
          "base_uri": "https://localhost:8080/"
        },
        "id": "qwuKNLMv2Cix",
        "outputId": "e465f9a3-95db-42e6-b58a-84c013cf7c98"
      },
      "execution_count": null,
      "outputs": [
        {
          "output_type": "stream",
          "name": "stdout",
          "text": [
            "[0, 1, 2, 3, 4, 5, 6, 7, 8, 9]\n",
            "[1, 2, 3, 4, 5, 6, 7, 8, 9]\n"
          ]
        }
      ]
    },
    {
      "cell_type": "code",
      "source": [
        "for i in range(10): \n",
        "  print(\"hello\")\n",
        "  print(i)"
      ],
      "metadata": {
        "colab": {
          "base_uri": "https://localhost:8080/"
        },
        "id": "AQ52tkFC2nQv",
        "outputId": "214b6a67-5bb3-464c-ca5a-47de720eb9ba"
      },
      "execution_count": null,
      "outputs": [
        {
          "output_type": "stream",
          "name": "stdout",
          "text": [
            "hello\n",
            "0\n",
            "hello\n",
            "1\n",
            "hello\n",
            "2\n",
            "hello\n",
            "3\n",
            "hello\n",
            "4\n",
            "hello\n",
            "5\n",
            "hello\n",
            "6\n",
            "hello\n",
            "7\n",
            "hello\n",
            "8\n",
            "hello\n",
            "9\n"
          ]
        }
      ]
    },
    {
      "cell_type": "code",
      "source": [
        "for i in range(10, 0, -1) : \n",
        "  print(i)"
      ],
      "metadata": {
        "colab": {
          "base_uri": "https://localhost:8080/"
        },
        "id": "HKDoo1DU2-Vl",
        "outputId": "d6c80221-757a-412e-9a27-caca7d29a6f6"
      },
      "execution_count": null,
      "outputs": [
        {
          "output_type": "stream",
          "name": "stdout",
          "text": [
            "10\n",
            "9\n",
            "8\n",
            "7\n",
            "6\n",
            "5\n",
            "4\n",
            "3\n",
            "2\n",
            "1\n"
          ]
        }
      ]
    },
    {
      "cell_type": "code",
      "source": [
        "i = 1\n",
        "while i<=10:\n",
        "  print(i)\n",
        "  i = i+1"
      ],
      "metadata": {
        "colab": {
          "base_uri": "https://localhost:8080/"
        },
        "id": "TKfheFMv3LC2",
        "outputId": "14576c29-48b5-4c93-984d-5163c86e684c"
      },
      "execution_count": null,
      "outputs": [
        {
          "output_type": "stream",
          "name": "stdout",
          "text": [
            "1\n",
            "2\n",
            "3\n",
            "4\n",
            "5\n",
            "6\n",
            "7\n",
            "8\n",
            "9\n",
            "10\n"
          ]
        }
      ]
    },
    {
      "cell_type": "code",
      "source": [
        "i = 10\n",
        "while i>=1 :\n",
        "  print(i)\n",
        "  i=i-1"
      ],
      "metadata": {
        "colab": {
          "base_uri": "https://localhost:8080/"
        },
        "id": "MfZDoqhB3zfW",
        "outputId": "c5e35e84-fa5c-4623-f933-1b7837481cde"
      },
      "execution_count": null,
      "outputs": [
        {
          "output_type": "stream",
          "name": "stdout",
          "text": [
            "10\n",
            "9\n",
            "8\n",
            "7\n",
            "6\n",
            "5\n",
            "4\n",
            "3\n",
            "2\n",
            "1\n"
          ]
        }
      ]
    },
    {
      "cell_type": "code",
      "source": [
        "i = 1\n",
        "while True : \n",
        "  print(i)\n",
        "  if i == 10 :\n",
        "    break\n",
        "  i += 1\n",
        "\n",
        "i = 1\n",
        "while True : \n",
        "  print(i)\n",
        "  i += 1\n",
        "  if i == 10 :\n",
        "    break\n",
        "  "
      ],
      "metadata": {
        "colab": {
          "base_uri": "https://localhost:8080/"
        },
        "id": "39XhmKia384F",
        "outputId": "01a7d0c1-5c4c-40d0-e50e-322569934f0d"
      },
      "execution_count": null,
      "outputs": [
        {
          "output_type": "stream",
          "name": "stdout",
          "text": [
            "1\n",
            "2\n",
            "3\n",
            "4\n",
            "5\n",
            "6\n",
            "7\n",
            "8\n",
            "9\n",
            "10\n",
            "1\n",
            "2\n",
            "3\n",
            "4\n",
            "5\n",
            "6\n",
            "7\n",
            "8\n",
            "9\n"
          ]
        }
      ]
    },
    {
      "cell_type": "code",
      "source": [
        "for i in range(1, 11) : \n",
        "  if i % 2 == 0 : # 짝수\n",
        "    continue\n",
        "  print(i)"
      ],
      "metadata": {
        "colab": {
          "base_uri": "https://localhost:8080/"
        },
        "id": "Mp69Igdf4fkt",
        "outputId": "58b3c3ff-ab1b-48dd-8826-2d7319135900"
      },
      "execution_count": null,
      "outputs": [
        {
          "output_type": "stream",
          "name": "stdout",
          "text": [
            "1\n",
            "3\n",
            "5\n",
            "7\n",
            "9\n"
          ]
        }
      ]
    },
    {
      "cell_type": "code",
      "source": [
        "for i in range(1,11) :\n",
        "  print(i)\n",
        "  if i == 5 :\n",
        "    break\n",
        "else : \n",
        "  print(\"출력\")           # 중간에 강제 break로 else로 빠지지 않음"
      ],
      "metadata": {
        "colab": {
          "base_uri": "https://localhost:8080/"
        },
        "id": "ipLpKaIQ41KF",
        "outputId": "ff49adda-e9d3-496d-c45f-9ed1e67f8314"
      },
      "execution_count": null,
      "outputs": [
        {
          "output_type": "stream",
          "name": "stdout",
          "text": [
            "1\n",
            "2\n",
            "3\n",
            "4\n",
            "5\n"
          ]
        }
      ]
    },
    {
      "cell_type": "code",
      "source": [
        "for i in range(1,11) :\n",
        "  print(i)\n",
        "else : \n",
        "  print(\"출력\")           # 정상적으로 구문이 완료되면 else문으로 빠짐"
      ],
      "metadata": {
        "colab": {
          "base_uri": "https://localhost:8080/"
        },
        "id": "GwjFlwLP5QnV",
        "outputId": "2e46a438-00a1-4a32-baf6-99be513f7e4f"
      },
      "execution_count": null,
      "outputs": [
        {
          "output_type": "stream",
          "name": "stdout",
          "text": [
            "1\n",
            "2\n",
            "3\n",
            "4\n",
            "5\n",
            "6\n",
            "7\n",
            "8\n",
            "9\n",
            "10\n",
            "출력\n"
          ]
        }
      ]
    },
    {
      "cell_type": "code",
      "source": [
        "# 1. 1부터 N까지 홀수 출력하기\n",
        "# 강의랑 동일\n",
        "\n",
        "n = int(input())\n",
        "for i in range(1, n+1) :\n",
        "  if i % 2 == 1 : \n",
        "    print(i)"
      ],
      "metadata": {
        "colab": {
          "base_uri": "https://localhost:8080/"
        },
        "id": "RPMfILtW5xD-",
        "outputId": "ce96c722-562f-4a11-b457-d38e2dff7e54"
      },
      "execution_count": null,
      "outputs": [
        {
          "output_type": "stream",
          "name": "stdout",
          "text": [
            "11\n",
            "1\n",
            "3\n",
            "5\n",
            "7\n",
            "9\n",
            "11\n"
          ]
        }
      ]
    },
    {
      "cell_type": "code",
      "source": [
        "# 2. 1부터 N까지의 합 구하기\n",
        "# 강의랑 동일\n",
        "\n",
        "n = int(input())\n",
        "sum = 0\n",
        "for i in range(1, n+1) :\n",
        "  sum += i                # sum = sum+i 표현식도 있음\n",
        "print(sum)"
      ],
      "metadata": {
        "colab": {
          "base_uri": "https://localhost:8080/"
        },
        "id": "0F6pWVwb6uFN",
        "outputId": "d97977e4-0c16-4aab-a416-ee900ec3b945"
      },
      "execution_count": null,
      "outputs": [
        {
          "output_type": "stream",
          "name": "stdout",
          "text": [
            "10\n",
            "55\n"
          ]
        }
      ]
    },
    {
      "cell_type": "code",
      "source": [
        "# 3. n의 약수 출력하기\n",
        "# 나의 방법\n",
        "n = int(input())\n",
        "for i in range(1, n+1) :\n",
        "  for j in range(1, n+1) :\n",
        "    if i*j == n :\n",
        "      print(i, end=\" \")"
      ],
      "metadata": {
        "colab": {
          "base_uri": "https://localhost:8080/"
        },
        "id": "XR_lZpm67LK8",
        "outputId": "05135b5b-af58-4d78-e247-e9638a5bb498"
      },
      "execution_count": null,
      "outputs": [
        {
          "output_type": "stream",
          "name": "stdout",
          "text": [
            "20\n",
            "1 2 4 5 10 20 "
          ]
        }
      ]
    },
    {
      "cell_type": "code",
      "source": [
        "# 강의\n",
        "n = int(input())\n",
        "for i in range(1, n+1) :\n",
        "  if n%i == 0:\n",
        "    print(i, end=\" \")"
      ],
      "metadata": {
        "colab": {
          "base_uri": "https://localhost:8080/"
        },
        "id": "CNj206cW72rV",
        "outputId": "2ce42c3f-aa88-4dc4-e1fb-f11a5e752a0b"
      },
      "execution_count": null,
      "outputs": [
        {
          "output_type": "stream",
          "name": "stdout",
          "text": [
            "20\n",
            "1 2 4 5 10 20 "
          ]
        }
      ]
    },
    {
      "cell_type": "code",
      "source": [
        "for i in range(5) :\n",
        "  for j in range(5) :\n",
        "    print(j, end=\" \")\n",
        "  print()           # 줄바꿈"
      ],
      "metadata": {
        "colab": {
          "base_uri": "https://localhost:8080/"
        },
        "id": "fR3lncnl89gN",
        "outputId": "65485bb3-a95d-4a20-eac8-b31320d2e94d"
      },
      "execution_count": null,
      "outputs": [
        {
          "output_type": "stream",
          "name": "stdout",
          "text": [
            "0 1 2 3 4 \n",
            "0 1 2 3 4 \n",
            "0 1 2 3 4 \n",
            "0 1 2 3 4 \n",
            "0 1 2 3 4 \n"
          ]
        }
      ]
    },
    {
      "cell_type": "code",
      "source": [
        "for i in range(5) :\n",
        "  print(\"i :\", i, sep='', end=\" \")\n",
        "  for j in range(5) :\n",
        "    print(\"j :\", j, sep='', end=\" \")\n",
        "  print()"
      ],
      "metadata": {
        "colab": {
          "base_uri": "https://localhost:8080/"
        },
        "id": "-RGtNQFe9ODz",
        "outputId": "bc71a570-a0b7-48bb-e1b7-bdb0b5105593"
      },
      "execution_count": null,
      "outputs": [
        {
          "output_type": "stream",
          "name": "stdout",
          "text": [
            "i :0 j :0 j :1 j :2 j :3 j :4 \n",
            "i :1 j :0 j :1 j :2 j :3 j :4 \n",
            "i :2 j :0 j :1 j :2 j :3 j :4 \n",
            "i :3 j :0 j :1 j :2 j :3 j :4 \n",
            "i :4 j :0 j :1 j :2 j :3 j :4 \n"
          ]
        }
      ]
    },
    {
      "cell_type": "code",
      "source": [
        "for i in range(5) :\n",
        "  for j in range(5) :\n",
        "    print(\"*\", end=\" \")\n",
        "  print() "
      ],
      "metadata": {
        "colab": {
          "base_uri": "https://localhost:8080/"
        },
        "id": "E2RiPqIm9iZa",
        "outputId": "df31ba49-c594-49af-8529-803d336d1642"
      },
      "execution_count": null,
      "outputs": [
        {
          "output_type": "stream",
          "name": "stdout",
          "text": [
            "* * * * * \n",
            "* * * * * \n",
            "* * * * * \n",
            "* * * * * \n",
            "* * * * * \n"
          ]
        }
      ]
    },
    {
      "cell_type": "code",
      "source": [
        "for i in range(5) :       # 세로\n",
        "  for j in range(i+1) :   # 가로\n",
        "    print(\"*\", end=\" \")\n",
        "  print() "
      ],
      "metadata": {
        "colab": {
          "base_uri": "https://localhost:8080/"
        },
        "id": "z_tuPEe99wKD",
        "outputId": "6ea39c3e-8baa-4ba8-8cdd-578ab99a430c"
      },
      "execution_count": null,
      "outputs": [
        {
          "output_type": "stream",
          "name": "stdout",
          "text": [
            "* \n",
            "* * \n",
            "* * * \n",
            "* * * * \n",
            "* * * * * \n"
          ]
        }
      ]
    },
    {
      "cell_type": "code",
      "source": [
        "for i in range(5, 0, -1) :\n",
        "  for j in range(i) :\n",
        "    print(\"*\", end=\" \")\n",
        "  print() \n",
        "\n",
        "print() \n",
        "print(\"------------------------------\")\n",
        "print() \n",
        "\n",
        "for i in range(5) :\n",
        "  for j in range(5-i) :\n",
        "    print(\"*\", end = \" \")\n",
        "  print()"
      ],
      "metadata": {
        "colab": {
          "base_uri": "https://localhost:8080/"
        },
        "id": "I-bXJIil-HK9",
        "outputId": "434b028f-708d-4af9-a2a0-098eec2c7308"
      },
      "execution_count": null,
      "outputs": [
        {
          "output_type": "stream",
          "name": "stdout",
          "text": [
            "* * * * * \n",
            "* * * * \n",
            "* * * \n",
            "* * \n",
            "* \n",
            "\n",
            "------------------------------\n",
            "\n",
            "* * * * * \n",
            "* * * * \n",
            "* * * \n",
            "* * \n",
            "* \n"
          ]
        }
      ]
    },
    {
      "cell_type": "code",
      "source": [
        "# 문자열과 내장함수\n",
        "\n",
        "msg = \"It is Time\"\n",
        "print(msg.upper())  #대문자\n",
        "print(msg.lower())  #소문자\n",
        "print(msg)          #변하는 것은 아님\n",
        "\n",
        "print() \n",
        "print(\"------------------------------\")\n",
        "print() \n",
        "\n",
        "tmp = msg.upper()\n",
        "print(tmp)\n",
        "print(tmp.find('T'))    #find : 글자의 인덱스 출력 (첫 번째 해당 글자)\n",
        "print(tmp.count('T'))   #count : 글자의 개수 출력\n",
        "\n",
        "print() \n",
        "print(\"------------------------------\")\n",
        "print() \n",
        "\n",
        "print(msg)\n",
        "print(msg[:2])          #슬라이스 : 문장의 인덱스 순서 -1 까지 출력 (2 > 1까지)\n",
        "print(msg[3:5])\n",
        "\n",
        "print() \n",
        "print(\"------------------------------\")\n",
        "print() \n",
        "\n",
        "print(len(msg))\n",
        "for i in range(len(msg)) :\n",
        "  print(msg[i], end = \" \")\n",
        "\n",
        "print()\n",
        "\n",
        "for x in msg : \n",
        "  print(x, end = \"\")\n",
        "\n",
        "print() \n",
        "print(\"------------------------------\")\n",
        "print() \n",
        "\n",
        "for x in msg : \n",
        "  if x.isupper() :\n",
        "    print(x, end = \" \")\n",
        "\n",
        "print() \n",
        "\n",
        "for x in msg : \n",
        "  if x.islower() :\n",
        "    print(x, end = \" \")\n",
        "\n"
      ],
      "metadata": {
        "colab": {
          "base_uri": "https://localhost:8080/"
        },
        "id": "gwMW-c9q_GCS",
        "outputId": "e7c108a8-4f8d-4249-fcea-735bb1bc9a3c"
      },
      "execution_count": null,
      "outputs": [
        {
          "output_type": "stream",
          "name": "stdout",
          "text": [
            "IT IS TIME\n",
            "it is time\n",
            "It is Time\n",
            "\n",
            "------------------------------\n",
            "\n",
            "IT IS TIME\n",
            "1\n",
            "2\n",
            "\n",
            "------------------------------\n",
            "\n",
            "It is Time\n",
            "It\n",
            "is\n",
            "\n",
            "------------------------------\n",
            "\n",
            "10\n",
            "I t   i s   T i m e \n",
            "It is Time\n",
            "------------------------------\n",
            "\n",
            "I T \n",
            "t i s i m e "
          ]
        }
      ]
    },
    {
      "cell_type": "code",
      "source": [
        "#공백 제거\n",
        "msg = \"It is Time\"\n",
        "\n",
        "for x in msg : \n",
        "  if x.isalpha() :      # isalpha : 알파벳인 경우에만 참\n",
        "    print(x, end = \"\")"
      ],
      "metadata": {
        "colab": {
          "base_uri": "https://localhost:8080/"
        },
        "id": "wrhxfxi-BmPZ",
        "outputId": "ad336109-0e97-4aea-a0d8-5a2ffacd4d07"
      },
      "execution_count": null,
      "outputs": [
        {
          "output_type": "stream",
          "name": "stdout",
          "text": [
            "ItisTime"
          ]
        }
      ]
    },
    {
      "cell_type": "code",
      "source": [
        "# 문자 > 아스키넘버 : ord\n",
        "\n",
        "tmp = 'AZ'\n",
        "\n",
        "for x in tmp :\n",
        "  print(ord(x))\n",
        "\n",
        "tmp = 'az'\n",
        "for x in tmp :\n",
        "  print(ord(x))\n",
        "\n",
        "\n",
        "# 아스키넘버 > 문자 : chr\n",
        "tmp = 65\n",
        "print(chr(tmp))"
      ],
      "metadata": {
        "id": "mP7cqMr9B-2t",
        "colab": {
          "base_uri": "https://localhost:8080/"
        },
        "outputId": "fed2658a-0ca1-4b79-c472-740f5c815895"
      },
      "execution_count": null,
      "outputs": [
        {
          "output_type": "stream",
          "name": "stdout",
          "text": [
            "65\n",
            "90\n",
            "97\n",
            "122\n",
            "A\n"
          ]
        }
      ]
    },
    {
      "cell_type": "code",
      "source": [
        "import random as r\n",
        "\n",
        "a = []\n",
        "print(a)\n",
        "\n",
        "b = list()\n",
        "print(b)\n",
        "\n",
        "a = [1, 2, 3, 4, 5]\n",
        "print(a)\n",
        "print(a[0])\n",
        "\n",
        "b = list(range(1, 11))\n",
        "print(b)\n",
        "\n",
        "c = a+b       # 리스트끼리의 덧셈은 합쳐져서 나타남\n",
        "print(c)"
      ],
      "metadata": {
        "colab": {
          "base_uri": "https://localhost:8080/"
        },
        "id": "83vwElxZ1jQr",
        "outputId": "6ab669e2-d398-4f67-ba68-798ae4af78c4"
      },
      "execution_count": null,
      "outputs": [
        {
          "output_type": "stream",
          "name": "stdout",
          "text": [
            "[]\n",
            "[]\n",
            "[1, 2, 3, 4, 5]\n",
            "1\n",
            "[1, 2, 3, 4, 5, 6, 7, 8, 9, 10]\n",
            "[1, 2, 3, 4, 5, 1, 2, 3, 4, 5, 6, 7, 8, 9, 10]\n"
          ]
        }
      ]
    },
    {
      "cell_type": "code",
      "source": [
        "a = [1, 2, 3, 4, 5]\n",
        "print(a)\n",
        "\n",
        "a.append(6)\n",
        "print(a)\n",
        "\n",
        "a.insert(3, 7)    #특정 인덱스에 값을 지정 insert(index, value)\n",
        "print(a)\n",
        "\n",
        "a.pop()           #맨 뒷 자료를 리스트에서 제거\n",
        "print(a)\n",
        "\n",
        "a.pop(3)          #pop(index) : index에 해당 값을 제거\n",
        "print(a)\n",
        "\n",
        "a.remove(4)       #remove : 리스트 특정 값 제거\n",
        "print(a)\n",
        "\n",
        "print(a.index(5))   #index(value) : value값의 인덱스 추출"
      ],
      "metadata": {
        "colab": {
          "base_uri": "https://localhost:8080/"
        },
        "id": "GZU_UNGG4BK0",
        "outputId": "ee392699-3a5d-4783-fe93-f55093bdae0e"
      },
      "execution_count": null,
      "outputs": [
        {
          "output_type": "stream",
          "name": "stdout",
          "text": [
            "[1, 2, 3, 4, 5]\n",
            "[1, 2, 3, 4, 5, 6]\n",
            "[1, 2, 3, 7, 4, 5, 6]\n",
            "[1, 2, 3, 7, 4, 5]\n",
            "[1, 2, 3, 4, 5]\n",
            "[1, 2, 3, 5]\n",
            "3\n"
          ]
        }
      ]
    },
    {
      "cell_type": "code",
      "source": [
        "a = list(range(1,11))\n",
        "print(a)\n",
        "\n",
        "print(sum(a))       #sum : a 리스트 값의 총 합\n",
        "print(max(a))       #max : 인자들 중에서 최대값 (a 리스트 값의 최대값)\n",
        "print(min(a))       #min : 인자들 중에서 최소값 (a 리스트 값의 최소값)\n",
        "print(min(7, 5))    \n",
        "print(a)\n",
        "\n",
        "print()\n",
        "print('----------------------')\n",
        "print()\n",
        "\n",
        "r.shuffle(a)        #a리스트를 무작위로 섞기\n",
        "print(a)\n",
        "\n",
        "a.sort()                 #sort : 오름차순 정렬\n",
        "print(a)\n",
        "\n",
        "a.sort(reverse=True)     #sort(reverse=True) : 내림차순 정렬\n",
        "print(a)\n",
        "\n",
        "a.clear()           #clear : 리스트 값 초기화\n",
        "print(a)"
      ],
      "metadata": {
        "colab": {
          "base_uri": "https://localhost:8080/"
        },
        "id": "iKc6Sikv5vlf",
        "outputId": "e870a644-93de-4c5e-8362-4bff9aee7773"
      },
      "execution_count": null,
      "outputs": [
        {
          "output_type": "stream",
          "name": "stdout",
          "text": [
            "[1, 2, 3, 4, 5, 6, 7, 8, 9, 10]\n",
            "55\n",
            "10\n",
            "1\n",
            "5\n",
            "[1, 2, 3, 4, 5, 6, 7, 8, 9, 10]\n",
            "\n",
            "----------------------\n",
            "\n",
            "[4, 1, 10, 3, 7, 8, 2, 9, 5, 6]\n",
            "[1, 2, 3, 4, 5, 6, 7, 8, 9, 10]\n",
            "[10, 9, 8, 7, 6, 5, 4, 3, 2, 1]\n",
            "[]\n"
          ]
        }
      ]
    },
    {
      "cell_type": "code",
      "source": [
        "a = [23, 12, 36, 53, 19]\n",
        "\n",
        "print(a[:3])        # 리스트 슬라이스 기능 사용 가능 [x:y] : x인덱스부터 y-1 인덱스까지\n",
        "print(a[1:4])\n",
        "print(len(a))       #리스트의 값 (리스트의 길이)\n",
        "\n",
        "for i in range(len(a)) : \n",
        "  print(a[i], end=' ')\n",
        "print()\n",
        "\n",
        "for x in a : \n",
        "  if x%2 == 1:\n",
        "    print(x, end=' ')\n",
        "print()\n",
        "\n",
        "for x in enumerate(a) :       # 인덱스 값까지 출력, x는 튜플 값으로 추출\n",
        "  print(x)\n",
        "\n",
        "print()\n",
        "print('튜플')\n",
        "b = (1, 2, 3, 4, 5)         #[]: 리스트 / (): 튜플\n",
        "print(b)\n",
        "print(b[0])\n",
        "#리스트와의 차이점 : 리스트는 값의 변경이 가능하지만 튜플은 값의 변경이 불가능하다\n",
        "#b[0]=7\n",
        "\n",
        "print()\n",
        "\n",
        "for x in enumerate(a):\n",
        "  print(x[0], x[1])       # x는 튜플 자료값이므로 인덱스로 원소값 추출 가능\n",
        "print()\n",
        "\n",
        "for index, value in enumerate(a) : \n",
        "  print(index, value)"
      ],
      "metadata": {
        "colab": {
          "base_uri": "https://localhost:8080/"
        },
        "id": "B3-ZCj9Z77ao",
        "outputId": "10c372b4-b264-4991-d4b8-469619d1605b"
      },
      "execution_count": null,
      "outputs": [
        {
          "output_type": "stream",
          "name": "stdout",
          "text": [
            "[23, 12, 36]\n",
            "[12, 36, 53]\n",
            "5\n",
            "23 12 36 53 19 \n",
            "23 53 19 \n",
            "(0, 23)\n",
            "(1, 12)\n",
            "(2, 36)\n",
            "(3, 53)\n",
            "(4, 19)\n",
            "\n",
            "튜플\n",
            "(1, 2, 3, 4, 5)\n",
            "1\n",
            "\n",
            "0 23\n",
            "1 12\n",
            "2 36\n",
            "3 53\n",
            "4 19\n",
            "\n",
            "0 23\n",
            "1 12\n",
            "2 36\n",
            "3 53\n",
            "4 19\n"
          ]
        }
      ]
    },
    {
      "cell_type": "code",
      "source": [
        "a = [23, 12, 36, 53, 19]\n",
        "\n",
        "if all(60>x for x in a) :   #모든게 다 값을 충족 -> 참 / 하나로 아닌 경우 -> 거짓\n",
        "  print('Yes')\n",
        "else : \n",
        "  print('No')\n",
        "\n",
        "\n",
        "if any(12>x for x in a) :   #한 개라도 충족하는 경우 -> 참 / 모두 거짓인 경우 -> 거짓\n",
        "  print('Yes')\n",
        "else :\n",
        "  print('No')"
      ],
      "metadata": {
        "colab": {
          "base_uri": "https://localhost:8080/"
        },
        "id": "cSNL84L0_FL6",
        "outputId": "fa0d6a90-1492-4a2b-b8e3-c5324f109d90"
      },
      "execution_count": null,
      "outputs": [
        {
          "output_type": "stream",
          "name": "stdout",
          "text": [
            "Yes\n",
            "No\n"
          ]
        }
      ]
    },
    {
      "cell_type": "code",
      "source": [
        "#a = [0] * 10\n",
        "#print(a)\n",
        "\n",
        "a = [[0]*3 for _ in range(3)]   #반복문 3번 반복 > 1차원 리스트 3번 반복\n",
        "print(a)\n",
        "\n",
        "a[0][1] = 1   #a[x][y] : x행의 y열\n",
        "a[1][1] = 2\n",
        "a[2][1] = 3\n",
        "print(a)\n",
        "\n",
        "print()\n",
        "\n",
        "for x in a :\n",
        "  print(x)\n",
        "print()\n",
        "\n",
        "#대괄호 없이 출력\n",
        "for x in a : \n",
        "  for y in x :\n",
        "    print(y, end = \" \")\n",
        "  print()"
      ],
      "metadata": {
        "colab": {
          "base_uri": "https://localhost:8080/"
        },
        "id": "4aVGhYCvAqAT",
        "outputId": "91e464e1-b835-4303-fd5f-195c2a6eeabd"
      },
      "execution_count": null,
      "outputs": [
        {
          "output_type": "stream",
          "name": "stdout",
          "text": [
            "[[0, 0, 0], [0, 0, 0], [0, 0, 0]]\n",
            "[[0, 1, 0], [0, 2, 0], [0, 3, 0]]\n",
            "\n",
            "[0, 1, 0]\n",
            "[0, 2, 0]\n",
            "[0, 3, 0]\n",
            "\n",
            "0 1 0 \n",
            "0 2 0 \n",
            "0 3 0 \n"
          ]
        }
      ]
    },
    {
      "cell_type": "code",
      "source": [
        "#함수 정의\n",
        "def add(a, b) :\n",
        "  c = a+b\n",
        "  print(c)\n",
        "\n",
        "#함수 호출 (작동)\n",
        "add(3, 2)\n",
        "add(5, 7)"
      ],
      "metadata": {
        "colab": {
          "base_uri": "https://localhost:8080/"
        },
        "id": "mUuHBllVCs6M",
        "outputId": "79d80d85-deb4-4e2a-96a0-3d74d12908eb"
      },
      "execution_count": null,
      "outputs": [
        {
          "output_type": "stream",
          "name": "stdout",
          "text": [
            "5\n",
            "12\n"
          ]
        }
      ]
    },
    {
      "cell_type": "code",
      "source": [
        "def add (a, b) : \n",
        "  c = a+b\n",
        "  return c      #값을 리턴하고 함수를 종료\n",
        "\n",
        "x = add(3, 2)\n",
        "print(x)        #반환한 값을 추출"
      ],
      "metadata": {
        "colab": {
          "base_uri": "https://localhost:8080/"
        },
        "id": "5NLe03X0DcI0",
        "outputId": "7bebdc2a-b96e-481e-ed11-8c2b325c3661"
      },
      "execution_count": null,
      "outputs": [
        {
          "output_type": "stream",
          "name": "stdout",
          "text": [
            "5\n"
          ]
        }
      ]
    },
    {
      "cell_type": "code",
      "source": [
        "def add(a, b) : \n",
        "  c = a+b\n",
        "  d = a-b\n",
        "  return c, d     # 값을 여러개 리턴 가능 > 튜플 자료구조로 리턴\n",
        "\n",
        "print(add(3, 2))"
      ],
      "metadata": {
        "colab": {
          "base_uri": "https://localhost:8080/"
        },
        "id": "4UkcesJCEB7H",
        "outputId": "53291ad9-84c2-4fd4-8470-9712a1ee5dfe"
      },
      "execution_count": null,
      "outputs": [
        {
          "output_type": "stream",
          "name": "stdout",
          "text": [
            "(5, 1)\n"
          ]
        }
      ]
    },
    {
      "cell_type": "code",
      "source": [
        "# 리스트에서 소수만 출력하기\n",
        "\n",
        "def isPrime(x) : \n",
        "  for i in range(2, x) :\n",
        "    if x%i == 0 : \n",
        "      return False\n",
        "  return True\n",
        "\n",
        "a = [12, 13, 7, 9, 19]\n",
        "\n",
        "for x in a :\n",
        "  if isPrime(x) :\n",
        "    print(x, end=' ')"
      ],
      "metadata": {
        "colab": {
          "base_uri": "https://localhost:8080/"
        },
        "id": "ohN5MGDkERT5",
        "outputId": "51952803-40e4-4585-84c4-6e03d3780ad5"
      },
      "execution_count": null,
      "outputs": [
        {
          "output_type": "stream",
          "name": "stdout",
          "text": [
            "13 7 19 "
          ]
        }
      ]
    },
    {
      "cell_type": "code",
      "source": [
        "def plus_one(x) : \n",
        "  return x+1\n",
        "\n",
        "print(plus_one(1))\n",
        "\n",
        "\n",
        "plus_two = lambda x : x+2\n",
        "print(plus_two(1))"
      ],
      "metadata": {
        "colab": {
          "base_uri": "https://localhost:8080/"
        },
        "id": "zTD4wQ1sGUI0",
        "outputId": "37e001fe-be57-47f2-b723-7ee37c368188"
      },
      "execution_count": null,
      "outputs": [
        {
          "output_type": "stream",
          "name": "stdout",
          "text": [
            "2\n",
            "3\n"
          ]
        }
      ]
    },
    {
      "cell_type": "code",
      "source": [
        "a = [1, 2, 3]\n",
        "print(list(map(plus_one, a)))       #map(함수명, 대상)\n",
        "\n",
        "print(list(map(lambda x: x+1, a)))\n",
        "\n",
        "b = list(map(lambda x: x+1, a))\n",
        "print(b)\n",
        "\n",
        "# lambda는 sort할 때 기준으로 사용하기 좋음!"
      ],
      "metadata": {
        "colab": {
          "base_uri": "https://localhost:8080/"
        },
        "id": "NqTY_vkaHCQ8",
        "outputId": "afd25a68-e9d9-40db-edb1-310379a2be0c"
      },
      "execution_count": null,
      "outputs": [
        {
          "output_type": "stream",
          "name": "stdout",
          "text": [
            "[2, 3, 4]\n",
            "[2, 3, 4]\n",
            "[2, 3, 4]\n"
          ]
        }
      ]
    },
    {
      "cell_type": "markdown",
      "source": [],
      "metadata": {
        "id": "oNc2GJjCItRu"
      }
    },
    {
      "cell_type": "markdown",
      "source": [
        "# 1. 코드 구현능력 기르기"
      ],
      "metadata": {
        "id": "2POHYtlXV-RA"
      }
    },
    {
      "cell_type": "code",
      "source": [
        "# K번째 약수\n",
        "# 나의 풀이\n",
        "n, k = map(int, input().split())\n",
        "numlist = list()\n",
        "\n",
        "for i in range(1, n+1) :\n",
        "  if n%i == 0 :\n",
        "    numlist.append(i)\n",
        "\n",
        "if len(numlist) >= k :\n",
        "  print(numlist[k-1])\n",
        "else :\n",
        "  print(-1)"
      ],
      "metadata": {
        "colab": {
          "base_uri": "https://localhost:8080/"
        },
        "id": "FXj8sAr8WBwp",
        "outputId": "984ac70b-2168-46b5-9733-a80ae4d1e52e"
      },
      "execution_count": null,
      "outputs": [
        {
          "output_type": "stream",
          "name": "stdout",
          "text": [
            "1000 12\n",
            "125\n"
          ]
        }
      ]
    },
    {
      "cell_type": "code",
      "source": [
        "# 강의\n",
        "\n",
        "n, k = map(int, input().split())\n",
        "cnt = 0\n",
        "\n",
        "for i in range(1, n+1) :\n",
        "  if n%i == 0 :\n",
        "    cnt += 1\n",
        "  if cnt == k :\n",
        "    print(i)\n",
        "    break\n",
        "else :                  # break가 아니라 정상적으로 종료되는 경우 else\n",
        "  print(-1)"
      ],
      "metadata": {
        "id": "9eBE4iXTdMcy"
      },
      "execution_count": null,
      "outputs": []
    },
    {
      "cell_type": "code",
      "source": [
        "# K번째 수\n",
        "# 나의 풀이 (1차)\n",
        "\n",
        "t = int(input())\n",
        "result = []\n",
        "\n",
        "for _ in range(t) :\n",
        "  n, s, e, k = map(int, input().split())\n",
        "  numlist = list(input().split())\n",
        "\n",
        "  for i in range(s-1, e) :\n",
        "    result.append(numlist[i])\n",
        "  result.sort()\n",
        "  print(result[k])\n",
        "\n",
        "  numlist = []\n",
        "  result = []\n",
        "\n",
        "'''\n",
        " 오답\n",
        " 출력이 바로나오고, 출력 값이 틀림\n",
        "'''"
      ],
      "metadata": {
        "colab": {
          "base_uri": "https://localhost:8080/"
        },
        "id": "fZlFRfB9hrz8",
        "outputId": "c1917a7b-5f2c-4620-f5d5-8e50e837c79e"
      },
      "execution_count": null,
      "outputs": [
        {
          "output_type": "stream",
          "name": "stdout",
          "text": [
            "2\n",
            "6 2 5 3\n",
            "5 2 7 3 8 9\n",
            "8\n",
            "15 3 10 3\n",
            "4 15 8 16 6 6 17 33 10 11 18 7 14 7 15\n",
            "17\n"
          ]
        }
      ]
    },
    {
      "cell_type": "code",
      "source": [
        "# 나의 풀이 (1차)\n",
        "\n",
        "t = int(input())\n",
        "result = []\n",
        "\n",
        "for _ in range(t) : \n",
        "  n, s, e, k = map(int, input().split())\n",
        "  num = list(map(int, input().split()))\n",
        "\n",
        "  nlist = list(num[s-1:e])\n",
        "  nlist.sort()\n",
        "  result.append(nlist[k-1])\n",
        "\n",
        "for i in result :\n",
        "  print(i) "
      ],
      "metadata": {
        "colab": {
          "base_uri": "https://localhost:8080/"
        },
        "id": "7imeXhNhlWi5",
        "outputId": "5ad1abc6-b39a-4533-c2b3-7c37ab430ae7"
      },
      "execution_count": null,
      "outputs": [
        {
          "output_type": "stream",
          "name": "stdout",
          "text": [
            "3\n",
            "15 3 10 3\n",
            "4 15 8 16 6 6 17 3 10 11 18 7 14 7 15 \n",
            "6 2 5 3\n",
            "5 2 7 3 8 9\n",
            "100 20 60 21\n",
            "148 810 785 695 201 113 382 234 50 567 586 345 725 614 633 882 671 748 330 705 899 147 947 436 442 963 918 492 948 691 429 591 509 629 227 884 963 939 998 606 343 359 743 573 810 911 292 529 530 584 345 88 110 66 818 898 358 749 428 116 638 650 965 394 780 445 816 312 968 225 653 426 356 565 609 442 60 678 314 50 264 469 518 155 328 170 421 981 951 329 907 616 954 412 658 395 355 345 784 242\n",
            "6\n",
            "7\n",
            "584\n"
          ]
        }
      ]
    },
    {
      "cell_type": "code",
      "source": [
        "# 강의\n",
        "\n",
        "T = int(input())\n",
        "\n",
        "for t in range(T) :\n",
        "  n, s, e, k = map(int, input().split())\n",
        "  a = list(map(int, input().split()))          # 숫자열 리스트 저장_의미 없음(추후 의미 부여)\n",
        "  a = a[s-1:e]                                 #슬라이스 기능 사용, 시작 s번째 = index[s-1], 끝 e번째 = index[e]\n",
        "  a.sort()\n",
        "  print(\"#%d %d\" %(t+1, a[k-1]))"
      ],
      "metadata": {
        "colab": {
          "base_uri": "https://localhost:8080/"
        },
        "id": "Z9zRl-ixnlNg",
        "outputId": "455defd9-931e-42ec-b66f-e5a4df1f54a6"
      },
      "execution_count": null,
      "outputs": [
        {
          "output_type": "stream",
          "name": "stdout",
          "text": [
            "2\n",
            "6 2 5 3\n",
            "5 2 7 3 8 9\n",
            "#1 7\n",
            "15 3 10 3\n",
            "4 15 8 16 6 6 17 3 10 11 18 7 14 7 15\n",
            "#2 6\n"
          ]
        }
      ]
    },
    {
      "cell_type": "code",
      "source": [
        "# K번째 큰수\n",
        "# 나의 풀이 (*)\n",
        "\n",
        "n, k = map(int, input().split())\n",
        "num = list(map(int, input().split()))\n",
        "\n",
        "for i in range(len(num)) :\n",
        "  for j in range(len(num)) :\n",
        "    for k in range(len(num)) :\n"
      ],
      "metadata": {
        "id": "HzjdjXO-oDH2"
      },
      "execution_count": null,
      "outputs": []
    },
    {
      "cell_type": "code",
      "source": [
        "n = [13, 15, 34, 23, 45, 65, 33, 11, 26, 42]\n",
        "n.sort()\n",
        "print(n)\n",
        "\n",
        "print(65+45+34)\n",
        "print(65+45+33)\n",
        "print(65+42+34)"
      ],
      "metadata": {
        "colab": {
          "base_uri": "https://localhost:8080/"
        },
        "id": "uQbqtosQrVhJ",
        "outputId": "23330b23-55dc-45fe-cc1f-18bb7e555d63"
      },
      "execution_count": null,
      "outputs": [
        {
          "output_type": "stream",
          "name": "stdout",
          "text": [
            "[11, 13, 15, 23, 26, 33, 34, 42, 45, 65]\n",
            "144\n",
            "143\n",
            "141\n"
          ]
        }
      ]
    },
    {
      "cell_type": "code",
      "source": [
        "n, k = map(int, input().split())\n",
        "num = list(map(int, input().split()))\n",
        "result = set()\n",
        "\n",
        "for x in range(len(num)) :\n",
        "  for y in range(x+1, len(num)) :\n",
        "    for z in range(y+1, len(num)) :\n",
        "      sum = num[x]+num[y]+num[z]\n",
        "      result.add(sum)\n",
        "\n",
        "result = list(result)\n",
        "result.sort(reverse=True)\n",
        "\n",
        "print(result[k-1])"
      ],
      "metadata": {
        "colab": {
          "base_uri": "https://localhost:8080/"
        },
        "id": "bXAhT41QLQjb",
        "outputId": "60afa89e-2503-437f-965c-3a84eba8819e"
      },
      "execution_count": null,
      "outputs": [
        {
          "output_type": "stream",
          "name": "stdout",
          "text": [
            "100 30\n",
            "50 53 20 23 42 54 44 18 53 27 44 23 43 20 48 22 50 45 44 52 37 49 15 23 53 21 29 47 53 51 54 22 50 25 49 33 34 49 53 47 20 42 41 41 25 15 25 51 33 38 44 35 49 35 53 47 19 22 31 27 47 18 44 51 25 16 47 46 43 20 49 44 20 29 33 25 25 19 23 50 35 20 35 47 33 32 13 26 39 22 16 32 39 38 35 29 24 16 48 29 \n",
            "132\n"
          ]
        }
      ]
    },
    {
      "cell_type": "code",
      "source": [
        "# 강의\n",
        "\n",
        "n, k = map(int, input().split())\n",
        "a = list(map(int, input().split()))\n",
        "res = set()   #중복 값 제거\n",
        "\n",
        "for i in range(n):\n",
        "  for j in range(i+1, n):\n",
        "    for m in range(j+1, n):   #3중 for문\n",
        "      res.add(a[i]+a[j]+a[m]) #set 추가 : add\n",
        "\n",
        "res = list(res)               #set은 sort기능이 없음 -> list\n",
        "res.sort(reverse=True)\n",
        "\n",
        "print(res[k-1])"
      ],
      "metadata": {
        "id": "T2-2KXnkq3Pt"
      },
      "execution_count": null,
      "outputs": []
    },
    {
      "cell_type": "code",
      "source": [
        "#[선수지식] 최소값 구하기\n",
        "\n",
        "arr = [5, 3, 7, 9, 2, 5, 2, 6]\n",
        "#arrMin = float('inf')       # 파이썬 내 가장 큰 값\n",
        "arrMin = arr[0]              # 첫번째 값\n",
        "\n",
        "for i in range(len(arr)):   #i : arr의 index번호\n",
        "  if arr[i] < arrMin :      # =조건을 넣으면 같은 값이 있으면 인덱스가 뒤의 값으로 변경됨\n",
        "    arrMin = arr[i]\n",
        "\n",
        "print(arrMin)"
      ],
      "metadata": {
        "colab": {
          "base_uri": "https://localhost:8080/"
        },
        "id": "BoOZwq4ntPBY",
        "outputId": "765e0977-d885-4a50-e44f-3294f69572ed"
      },
      "execution_count": null,
      "outputs": [
        {
          "output_type": "stream",
          "name": "stdout",
          "text": [
            "2\n"
          ]
        }
      ]
    },
    {
      "cell_type": "code",
      "source": [
        "#[선수지식] 최소값 구하기\n",
        "\n",
        "arr = [5, 3, 7, 9, 2, 5, 2, 6]\n",
        "arrMin = float('inf')\n",
        "\n",
        "for x in arr:\n",
        "  if x < arrMin:\n",
        "    arrMin = x\n",
        "\n",
        "print(arrMin)"
      ],
      "metadata": {
        "colab": {
          "base_uri": "https://localhost:8080/"
        },
        "id": "G6GzDzCavz_U",
        "outputId": "445a599d-0273-44d0-c55c-21c5f70fbfc2"
      },
      "execution_count": null,
      "outputs": [
        {
          "output_type": "stream",
          "name": "stdout",
          "text": [
            "2\n"
          ]
        }
      ]
    },
    {
      "cell_type": "code",
      "source": [
        "# 다영\n",
        "\n",
        "n = int(input())\n",
        "score = list(map(int, input().split()))\n",
        "\n",
        "mid = round(sum(score)/n)\n",
        "\n",
        "for i in range(mid) :\n",
        "  for num in score :\n",
        "    if num - mid == i : \n",
        "      print(mid, end= ' ')\n",
        "      print(score.index(num) )\n",
        "      break\n",
        "    elif mid - num == i :\n",
        "      print(mid, end= ' ')\n",
        "      print(score.index(num))\n",
        "      break"
      ],
      "metadata": {
        "colab": {
          "base_uri": "https://localhost:8080/"
        },
        "id": "0_DIfyJQTTrE",
        "outputId": "2e8e3ae4-f6c4-4b78-e13c-c307dc24ebdb"
      },
      "execution_count": null,
      "outputs": [
        {
          "output_type": "stream",
          "name": "stdout",
          "text": [
            "10\n",
            "45 73 66 87 92 67 75 79 75 80\n",
            "74 1\n",
            "74 7\n",
            "74 9\n",
            "74 5\n",
            "74 2\n",
            "74 3\n",
            "74 4\n",
            "74 0\n"
          ]
        }
      ]
    },
    {
      "cell_type": "code",
      "source": [
        "# 다영 (2차)\n",
        "\n",
        "n = int(input())\n",
        "score = list(map(int, input().split()))\n",
        "\n",
        "mid = round(sum(score)/n)\n",
        "\n",
        "result = []\n",
        "\n",
        "for i in range(mid) :\n",
        "  for num in score :\n",
        "    if abs(num-mid) == i :\n",
        "      result.append(num)\n",
        "      break\n",
        "\n",
        "result.sort(reverse=True)\n",
        "print(result)\n",
        "\n",
        "print(mid, end = \" \")\n",
        "print(score.index(result[0]))\n"
      ],
      "metadata": {
        "colab": {
          "base_uri": "https://localhost:8080/"
        },
        "id": "nE8ouFX0i_dB",
        "outputId": "1f43b417-a54a-4248-e05c-497e936e81b0"
      },
      "execution_count": null,
      "outputs": [
        {
          "output_type": "stream",
          "name": "stdout",
          "text": [
            "10\n",
            "45 73 66 87 92 67 75 79 75 80\n",
            "[92, 87, 80, 79, 73, 67, 66, 45]\n",
            "74 4\n"
          ]
        }
      ]
    },
    {
      "cell_type": "code",
      "source": [
        "n = int(input())\n",
        "score = list(map(int, input().split()))\n",
        "\n",
        "mid = round(sum(score)/n)\n",
        "\n",
        "first = []\n",
        "for sco in score :\n",
        "  first.append(sco - mid)\n",
        "\n",
        "for num in first :\n",
        "  for i in range(mid) :\n",
        "    if abs(num - mid) == i :\n",
        "      \n"
      ],
      "metadata": {
        "colab": {
          "base_uri": "https://localhost:8080/"
        },
        "id": "001ZfXSLyETb",
        "outputId": "0a1c803e-865f-4aa1-e968-a4084b27b2f4"
      },
      "execution_count": null,
      "outputs": [
        {
          "output_type": "stream",
          "name": "stdout",
          "text": [
            "10\n",
            "45 73 66 87 92 67 75 79 75 80\n",
            "[-29, -1, -8, 13, 18, -7, 1, 5, 1, 6]\n"
          ]
        }
      ]
    },
    {
      "cell_type": "code",
      "source": [
        "# 다영 (4차)\n",
        "\n",
        "n = int(input())\n",
        "score = list(map(int, input().split()))\n",
        "\n",
        "ave = round(sum(score)/n)\n",
        "\n",
        "a = 0 \n",
        "\n",
        "for i in range(ave):\n",
        "  for s in score:\n",
        "    if s == ave+i:\n",
        "      a = s\n",
        "      break\n",
        "  else:\n",
        "    if s == ave-i:\n",
        "      a = s\n",
        "      break\n",
        "  if a != 0 :\n",
        "    print(ave, end=\" \")\n",
        "    print(score.index(a)+1)\n",
        "    break"
      ],
      "metadata": {
        "colab": {
          "base_uri": "https://localhost:8080/"
        },
        "id": "f5-s79sVxMJN",
        "outputId": "aa9334e9-ed1f-4930-93b9-e2e0cb110408"
      },
      "execution_count": null,
      "outputs": [
        {
          "output_type": "stream",
          "name": "stdout",
          "text": [
            "5\n",
            "1 2 3 4 5\n",
            "3 3\n"
          ]
        }
      ]
    },
    {
      "cell_type": "code",
      "source": [
        "# 강의\n",
        "\n",
        "n = int(input())\n",
        "a = list(map(int, input().split()))\n",
        "\n",
        "min = 2147000000              #정수형 크기의 가장 큰 값\n",
        "ave = round(sum(a)/n)\n",
        "\n",
        "for idx, x in enumerate(a):   #idx : index, x : 값\n",
        "  tmp = abs(x-ave)            #절대값(거리)\n",
        "  if tmp < min:\n",
        "    min = tmp\n",
        "    score = x\n",
        "    res = idx+1\n",
        "  elif tmp == min:\n",
        "    if x > score :\n",
        "      score = x\n",
        "      res = idx+1\n",
        "\n",
        "print(ave, res)"
      ],
      "metadata": {
        "colab": {
          "base_uri": "https://localhost:8080/"
        },
        "id": "sAkvQ2D514xP",
        "outputId": "343963c9-9c9a-468e-fdd9-19b094c6b38d"
      },
      "execution_count": null,
      "outputs": [
        {
          "output_type": "stream",
          "name": "stdout",
          "text": [
            "10\n",
            "45 73 66 87 92 67 75 79 75 80\n",
            "74 7\n"
          ]
        }
      ]
    },
    {
      "cell_type": "code",
      "source": [
        "# 대표값 문제 오류 수정\n",
        "'''\n",
        "소수 첫째 자리에서 반올림\n",
        "round는 half_up 방식이 아닌 round_half_even 방식\n",
        "예) a = 4.500\n",
        "  >> a = 4\n",
        "   a = 66.5\n",
        "  >> a = 66\n",
        "  즉, 정확하게 반(0.500)을 나타내면 짝수로 나타낸다.\n",
        "\n",
        "따라서 \n",
        "  a = 66.5\n",
        "  a = a+0.5\n",
        "  a = int(a)  > 소수점 없앰\n",
        "  print(a)\n",
        "'''\n"
      ],
      "metadata": {
        "id": "jL_KNGd948tB"
      },
      "execution_count": null,
      "outputs": []
    },
    {
      "cell_type": "code",
      "source": [
        "# 정다면체_다영\n",
        "\n",
        "n, m = map(int, input().split())\n",
        "cnt = 0\n",
        "result = []\n",
        "\n",
        "for res in range(2, n+m+1):\n",
        "  for i in range(1, n+1):\n",
        "    for j in range(1, m+1):\n",
        "      if res == i+j:\n",
        "        cnt += 1\n",
        "  result.append(cnt)\n",
        "  cnt = 0\n",
        "\n",
        "maxnum = max(result)\n",
        "\n",
        "for idx, res in enumerate(result):\n",
        "  if maxnum == res:\n",
        "    print(idx+2, end=' ')"
      ],
      "metadata": {
        "id": "wcaG0lb90Khs",
        "colab": {
          "base_uri": "https://localhost:8080/"
        },
        "outputId": "3dd58e91-3ec9-448b-fbb6-6240a7c9544e"
      },
      "execution_count": null,
      "outputs": [
        {
          "output_type": "stream",
          "name": "stdout",
          "text": [
            "6 20\n",
            "7 8 9 10 11 12 13 14 15 16 17 18 19 20 21 "
          ]
        }
      ]
    },
    {
      "cell_type": "code",
      "source": [
        "#정다면체_강의\n",
        "\n",
        "n, m = map(int, input().split())\n",
        "cnt = [0]*(n+m+1)                 #주사위 눈의 합보다 큰수를 작성하여 여유 값을 줌 (강의에서 +3정도로 줌)\n",
        "max = 0\n",
        "\n",
        "for i in range(1, n+1):\n",
        "  for j in range(1, m+1):\n",
        "    cnt[i+j] += 1                 #리스트 => 주사위 눈의 합\n",
        "\n",
        "for i in range(n+m+1):            #최대값 추출\n",
        "  if cnt[i] > max:\n",
        "    max = cnt[i]\n",
        "\n",
        "for i in range(n+m+1):\n",
        "  if cnt[i] == max:\n",
        "    print(i, end = ' ')\n"
      ],
      "metadata": {
        "colab": {
          "base_uri": "https://localhost:8080/"
        },
        "id": "u3E_HnEaafdP",
        "outputId": "aafa642e-15e8-4c71-c879-dc3793bae25a"
      },
      "execution_count": null,
      "outputs": [
        {
          "output_type": "stream",
          "name": "stdout",
          "text": [
            "4 6\n",
            "5 6 7 "
          ]
        }
      ]
    },
    {
      "cell_type": "code",
      "source": [
        "#자릿수의 합_다영\n",
        "\n",
        "def digit_sum(x):\n",
        "  res = 0\n",
        "  for i in range(len(x)):\n",
        "    res += int(x[i])\n",
        "  return res\n",
        "\n",
        "n = int(input())\n",
        "nlist = list(input().split())\n",
        "result = [0]*n\n",
        "\n",
        "for idx, num in enumerate(nlist):\n",
        "  result[idx] = digit_sum(num)\n",
        "\n",
        "maxres = max(result)\n",
        "maxidx = result.index(maxres)\n",
        "print(nlist[maxidx])"
      ],
      "metadata": {
        "colab": {
          "base_uri": "https://localhost:8080/"
        },
        "id": "nLK6UHfpCdw8",
        "outputId": "0313ef1a-c4bc-4aa1-e085-fd308b0aeaef"
      },
      "execution_count": null,
      "outputs": [
        {
          "output_type": "stream",
          "name": "stdout",
          "text": [
            "3\n",
            "125 15232 97\n",
            "97\n"
          ]
        }
      ]
    },
    {
      "cell_type": "code",
      "source": [
        "#자릿수의 합_강의_v1\n",
        "\n",
        "n = int(input())\n",
        "a = list(map(int, input().split()))\n",
        "\n",
        "def digit_sum(x):\n",
        "  sum = 0\n",
        "  while x > 0:\n",
        "    sum += x % 10   #나머지\n",
        "    x = x // 10     #몫\n",
        "  return sum\n",
        "\n",
        "max = -2147000000   #가장 작은 수\n",
        "for x in a:\n",
        "  tot = digit_sum(x)\n",
        "  \n",
        "  if tot > max:\n",
        "    max = tot\n",
        "    res = x\n",
        "\n",
        "print(res)"
      ],
      "metadata": {
        "colab": {
          "base_uri": "https://localhost:8080/"
        },
        "id": "SZpDQqD5chm4",
        "outputId": "8fe709b1-2657-43f1-99c4-fdb5da90000b"
      },
      "execution_count": null,
      "outputs": [
        {
          "output_type": "stream",
          "name": "stdout",
          "text": [
            "3\n",
            "125 15232 97\n",
            "97\n"
          ]
        }
      ]
    },
    {
      "cell_type": "code",
      "source": [
        "#자릿수의 합_강의_v2\n",
        "\n",
        "n = int(input())\n",
        "a = list(map(int, input().split()))\n",
        "\n",
        "def digit_sum(x):\n",
        "  sum = 0\n",
        "  for i in str(x):\n",
        "    sum += int(i)\n",
        "  return sum\n",
        "\n",
        "max = -2147000000   #가장 작은 수 (C++의 경우 2^31 값이 최대값)\n",
        "for x in a:\n",
        "  tot = digit_sum(x)\n",
        "  \n",
        "  if tot > max:\n",
        "    max = tot\n",
        "    res = x\n",
        "\n",
        "print(res)"
      ],
      "metadata": {
        "id": "inu9LItUeU62"
      },
      "execution_count": null,
      "outputs": []
    },
    {
      "cell_type": "code",
      "source": [
        "#소수_에라토스테네스 체_강의\n",
        "#소수의 갯수를 찾아내는 가장 빠른 방법\n",
        "\n",
        "n = int(input())\n",
        "ch = [0] * (n+1)  #n까지의 빈 리스트\n",
        "cnt = 0\n",
        "\n",
        "for i in range(2, n+1):\n",
        "  if ch[i] == 0:\n",
        "    cnt += 1\n",
        "    for j in range(i, n+1, i):  #i의 배수\n",
        "      ch[j] = 1\n",
        "\n",
        "print(cnt)     #소수의 개수 출력"
      ],
      "metadata": {
        "id": "OLVssU3qIMHH",
        "colab": {
          "base_uri": "https://localhost:8080/"
        },
        "outputId": "a30185ab-c962-488e-d38a-848abba13f25"
      },
      "execution_count": null,
      "outputs": [
        {
          "output_type": "stream",
          "name": "stdout",
          "text": [
            "200000\n",
            "17984\n"
          ]
        }
      ]
    },
    {
      "cell_type": "code",
      "source": [
        "#뒤집은 소수_다영_v1\n",
        "\n",
        "def reverse(x):\n",
        "  for i in range(len(x)):\n",
        "    m = len(x)\n",
        "    result = x[::-1]\n",
        "    result = int(result)\n",
        "  return result\n",
        "\n",
        "def isPrime(x):\n",
        "  cnt = 0\n",
        "  x = int(x)\n",
        "  for i in range(1, x+1):\n",
        "    if x%i == 0:\n",
        "      cnt += 1\n",
        "  if cnt == 2:\n",
        "    return True\n",
        "  else:\n",
        "    return False\n",
        "\n",
        "n = int(input())\n",
        "nlist = list(input().split())\n",
        "\n",
        "for num in nlist:\n",
        "  result = reverse(num)\n",
        "  if isPrime(result) == True:\n",
        "    print(result, end=' ')"
      ],
      "metadata": {
        "id": "9LABqbX_Mzqk"
      },
      "execution_count": null,
      "outputs": []
    },
    {
      "cell_type": "code",
      "source": [
        "#뒤집은 소수_다영_v2\n",
        "\n",
        "def reverse(x):\n",
        "  for i in range(len(x)):\n",
        "    m = len(x)\n",
        "    result = x[::-1]\n",
        "    result = int(result)\n",
        "  return result\n",
        "\n",
        "def isPrime(x):\n",
        "  cnt = 0\n",
        "  x = int(x)\n",
        "  for i in range(1, x+1):\n",
        "    if x%i == 0:\n",
        "      cnt += 1\n",
        "    if cnt > 2:\n",
        "      return False\n",
        "      break\n",
        "  else:\n",
        "    if cnt == 2:\n",
        "      return True\n",
        "\n",
        "n = int(input())\n",
        "nlist = list(input().split())\n",
        "\n",
        "for num in nlist:\n",
        "  result = reverse(num)\n",
        "  if isPrime(result) == True:\n",
        "    print(result, end=' ')"
      ],
      "metadata": {
        "colab": {
          "base_uri": "https://localhost:8080/"
        },
        "id": "FL3e1ADYI7O8",
        "outputId": "4146c311-2fc4-4206-c23a-98f5f97c2a17"
      },
      "execution_count": null,
      "outputs": [
        {
          "output_type": "stream",
          "name": "stdout",
          "text": [
            "100\n",
            "736 89 35 19349 287 71 719 27200 437 82 1399 23763 591 8 6793 16256 482 14 7725 24830 328 60 2345 4304 348 42 6191 8905 168 19 4026 19408 897 59 9673 15329 857 38 2331 6484 469 19 2652 16738 880 87 8479 29157 976 59 7196 16479 616 50 7979 574 486 79 898 2654 885 53 620 24528 134 32 4443 20954 762 77 1775 3390 507 25 3271 5823 388 47 2727 20194 677 90 6107 25330 204 72 9099 20294 241 92 6511 22215 121 17 6597 5036 685 88 2368 1416 \n",
            "53 17 9931 41 823 80491 3769 83 83761 6917 5 97 431 23 1723 883 29 71 "
          ]
        }
      ]
    },
    {
      "cell_type": "code",
      "source": [
        "#뒤집은 소수_강의\n",
        "\n",
        "n = int(input())\n",
        "a = list(map(int, input().split()))\n",
        "\n",
        "def reverse(x):\n",
        "  res = 0\n",
        "  while x > 0:\n",
        "    t = x % 10      #나머지\n",
        "    res = res * 10 + t\n",
        "    x = x // 10     #몫\n",
        "  return res        #뒤집은 수\n",
        "\n",
        "def isPrime(x):\n",
        "  if x == 1:\n",
        "    return False\n",
        "  for i in range(2, x//2+1):  #소수는 절반까지 존재\n",
        "    if x % i == 0:\n",
        "      return False            #False를 return하고 종료함\n",
        "  else:\n",
        "    return True               #정상 종료 -> True\n",
        "\n",
        "\n",
        "for x in a:\n",
        "  tmp = reverse(x)\n",
        "  \n",
        "  if isPrime(tmp):\n",
        "    print(tmp, end = ' ')"
      ],
      "metadata": {
        "colab": {
          "base_uri": "https://localhost:8080/"
        },
        "id": "bc46O5X6hp8w",
        "outputId": "0f7e380c-2c81-4ad4-e06e-868ead4976d7"
      },
      "execution_count": null,
      "outputs": [
        {
          "output_type": "stream",
          "name": "stdout",
          "text": [
            "100\n",
            "736 89 35 19349 287 71 719 27200 437 82 1399 23763 591 8 6793 16256 482 14 7725 24830 328 60 2345 4304 348 42 6191 8905 168 19 4026 19408 897 59 9673 15329 857 38 2331 6484 469 19 2652 16738 880 87 8479 29157 976 59 7196 16479 616 50 7979 574 486 79 898 2654 885 53 620 24528 134 32 4443 20954 762 77 1775 3390 507 25 3271 5823 388 47 2727 20194 677 90 6107 25330 204 72 9099 20294 241 92 6511 22215 121 17 6597 5036 685 88 2368 1416 \n",
            "53 17 9931 41 823 80491 3769 83 83761 6917 5 97 431 23 1723 883 29 71 "
          ]
        }
      ]
    },
    {
      "cell_type": "code",
      "source": [
        "#주사위게임_다영\n",
        "\n",
        "n = int(input())\n",
        "prize = []\n",
        "\n",
        "for _ in range(n):\n",
        "  a, b, c = map(int, input().split())\n",
        "\n",
        "  if a == b == c:              #3개의 눈이 같은 경우\n",
        "    pri = 10000 + a*1000\n",
        "  elif a != b != c:            #3개의 눈이 모두 다른 경우\n",
        "    pri = max(a, b, c) * 100\n",
        "  else:                        #2개의 눈이 같은 경우\n",
        "    if a == b or a == c: \n",
        "      pri = 1000 + a*100\n",
        "    elif b == c:\n",
        "      pri = 1000 + b*100\n",
        "  \n",
        "  prize.append(pri)\n",
        "\n",
        "print(max(prize))"
      ],
      "metadata": {
        "id": "TogN3amFODdX",
        "colab": {
          "base_uri": "https://localhost:8080/"
        },
        "outputId": "e511ad6a-5ea9-46e9-ca85-384aa15cd939"
      },
      "execution_count": null,
      "outputs": [
        {
          "output_type": "stream",
          "name": "stdout",
          "text": [
            "3\n",
            "3 3 6\n",
            "2 2 2\n",
            "6 2 5\n",
            "12000\n"
          ]
        }
      ]
    },
    {
      "cell_type": "code",
      "source": [
        "#주사위 게임_강의\n",
        "#가장 많은 상금은 같은 눈을 3개 가진 경우임을 알 수 있다.\n",
        "\n",
        "n = int(input())\n",
        "\n",
        "for i in range(n):\n",
        "  tmp = input().split()   #문자형 숫자\n",
        "  tmp.sort()\n",
        "  a, b, c = map(int, tmp)\n",
        "  \n",
        "  if a == b and b == c:   #if가 참이되면 elif가 참이여도 하지 않으므로 가장 좋은 것을 최고로 위에 저장해준다.\n",
        "    money = 10000 + (a*1000)\n",
        "  elif a == b or a == c :\n",
        "    money = 1000 + (a*100)\n",
        "  elif b == c:\n",
        "    money = 1000 + (b*100)\n",
        "  else :\n",
        "    money = c * 100       #sort\n",
        "  \n",
        "  if money > res:\n",
        "    res = money\n",
        "\n",
        "print(res)"
      ],
      "metadata": {
        "id": "bDO33XuClCyQ"
      },
      "execution_count": null,
      "outputs": []
    },
    {
      "cell_type": "code",
      "source": [
        "#점수계산_다영\n",
        "\n",
        "n = int(input())\n",
        "nlist = list(map(int, input().split()))\n",
        "score = 0\n",
        "total = 0\n",
        "\n",
        "for num in nlist:\n",
        "  if num == 1:\n",
        "    score += 1\n",
        "  else: \n",
        "    score = 0\n",
        "  total += score\n",
        "\n",
        "print(total)"
      ],
      "metadata": {
        "colab": {
          "base_uri": "https://localhost:8080/"
        },
        "id": "VKgc8YB6ni3x",
        "outputId": "4ef4fd45-4836-4551-dfe4-043d6cc98dd1"
      },
      "execution_count": null,
      "outputs": [
        {
          "output_type": "stream",
          "name": "stdout",
          "text": [
            "100\n",
            "0 0 1 1 1 0 1 1 1 1 1 1 0 1 0 1 0 1 1 0 0 1 1 0 1 0 1 1 1 0 1 1 1 1 1 1 0 0 0 0 0 0 0 1 0 1 1 1 1 0 1 1 0 0 0 0 0 1 0 1 1 0 1 0 1 1 1 1 1 0 0 0 1 1 1 0 1 0 1 1 0 1 1 0 1 0 0 1 0 1 1 0 1 1 0 1 0 0 1 1 \n",
            "122\n"
          ]
        }
      ]
    },
    {
      "cell_type": "code",
      "source": [
        "#점수계산_강의\n",
        "\n",
        "n = int(input())\n",
        "a = list(map(int, input().split()))\n",
        "sum = 0\n",
        "cnt = 0\n",
        "\n",
        "for x in a:\n",
        "  if x == 1:\n",
        "    cnt += 1\n",
        "    sum += cnt\n",
        "  else:\n",
        "    cnt = 0\n",
        "\n",
        "print(sum)"
      ],
      "metadata": {
        "id": "RNIjqjOvacWb"
      },
      "execution_count": null,
      "outputs": []
    },
    {
      "cell_type": "markdown",
      "source": [
        "#탐색 & 시뮬레이션"
      ],
      "metadata": {
        "id": "21VmFwcwcHHK"
      }
    },
    {
      "cell_type": "code",
      "source": [
        "#회문 문자열 검사_다영\n",
        "\n",
        "n = int(input())\n",
        "\n",
        "for i in range(n): \n",
        "  word = input()\n",
        "  word = word.upper()\n",
        "  if word == word[::-1]:\n",
        "    print(\"#%d %s\" %((i+1), \"YES\"))\n",
        "  else:\n",
        "    print(\"#%d %s\" %(i+1, \"NO\")a)"
      ],
      "metadata": {
        "id": "xORQLpoTcE1J",
        "colab": {
          "base_uri": "https://localhost:8080/"
        },
        "outputId": "b6fc6824-45b2-4a58-fae7-57b5851cfcef"
      },
      "execution_count": null,
      "outputs": [
        {
          "output_type": "stream",
          "name": "stdout",
          "text": [
            "5\n",
            "level\n",
            "#1 YES\n",
            "moon\n",
            "#2 NO\n",
            "abcba\n",
            "#3 YES\n",
            "soon\n",
            "#4 NO\n",
            "gooG\n",
            "#5 YES\n"
          ]
        }
      ]
    },
    {
      "cell_type": "code",
      "source": [
        "#회문 문자열 검사_강의 \n",
        "\n",
        "n = int(input())\n",
        "\n",
        "for i in range(n):\n",
        "  s = input()\n",
        "  s = s.upper()\n",
        "  size = len(s)     //앞 뒤 비교\n",
        "\n",
        "  for j in range(size//2):\n",
        "    if s[j] != s[-1-j]:\n",
        "      print(\"%d NO\" %(i+1))\n",
        "  else:\n",
        "    print(\"#d YES\" %(i+1))"
      ],
      "metadata": {
        "id": "BId0B8T8wtoc"
      },
      "execution_count": null,
      "outputs": []
    },
    {
      "cell_type": "code",
      "source": [
        "#회문 문자열 검사_강의 \n",
        "\n",
        "n = int(input())\n",
        "\n",
        "for i in range(n):\n",
        "  s = input()\n",
        "  s = s.upper()\n",
        "  if s == s[::-1]:\n",
        "    print(\"#%d YES\" %(i+1))\n",
        "  else: \n",
        "    print(\"#%d NO\" %(i+1))"
      ],
      "metadata": {
        "id": "lM4OPAzwyySp"
      },
      "execution_count": null,
      "outputs": []
    },
    {
      "cell_type": "code",
      "source": [
        "#숫자만 추출_다영\n",
        "\n",
        "word = input()\n",
        "cnt = 0\n",
        "num = \"\"\n",
        "\n",
        "for x in word:\n",
        "  if x.isdigit():\n",
        "    num += str(x)\n",
        "\n",
        "num = int(num)\n",
        "\n",
        "for i in range(1, num+1):\n",
        "  if num % i == 0:\n",
        "    cnt += 1\n",
        "\n",
        "print(num)\n",
        "print(cnt)"
      ],
      "metadata": {
        "id": "6syI1sEZkz7Q"
      },
      "execution_count": null,
      "outputs": []
    },
    {
      "cell_type": "code",
      "source": [
        "#숫자만 추출_강의\n",
        "\n",
        "s = input()\n",
        "\n",
        "res = 0\n",
        "for x in s:\n",
        "  if x.isdecimal():\n",
        "    res = res*10 + int(x)\n",
        "print(res)\n",
        "\n",
        "cnt = 0\n",
        "for i in range(1, res+1):\n",
        "  if res % i == 0:\n",
        "    cnt += 1\n",
        "print(cnt)"
      ],
      "metadata": {
        "id": "zRijc_000uW1"
      },
      "execution_count": null,
      "outputs": []
    },
    {
      "cell_type": "code",
      "source": [
        "#카드 역배치_다영_1차\n",
        "\n",
        "nlist = [0] * 20\n",
        "\n",
        "for i in range(20):\n",
        "  nlist[i] = i+1\n",
        "\n",
        "for n in range(10):\n",
        "  a, b = map(int, input().split())\n",
        "  nlist[a-1:b] = nlist[b-1:a-2:-1]\n",
        "  print(nlist)\n",
        "\n",
        "print(nlist)"
      ],
      "metadata": {
        "colab": {
          "base_uri": "https://localhost:8080/"
        },
        "id": "syEuAdGNkj3S",
        "outputId": "506538eb-9c99-442c-dffe-42bad9e23685"
      },
      "execution_count": null,
      "outputs": [
        {
          "output_type": "stream",
          "name": "stdout",
          "text": [
            "5 10\n",
            "[1, 2, 3, 4, 10, 9, 8, 7, 6, 5, 11, 12, 13, 14, 15, 16, 17, 18, 19, 20]\n",
            "9 13\n",
            "[1, 2, 3, 4, 10, 9, 8, 7, 13, 12, 11, 5, 6, 14, 15, 16, 17, 18, 19, 20]\n",
            "1 2\n",
            "[3, 4, 10, 9, 8, 7, 13, 12, 11, 5, 6, 14, 15, 16, 17, 18, 19, 20]\n",
            "3 4\n",
            "[3, 4, 9, 10, 8, 7, 13, 12, 11, 5, 6, 14, 15, 16, 17, 18, 19, 20]\n",
            "5 6\n",
            "[3, 4, 9, 10, 7, 8, 13, 12, 11, 5, 6, 14, 15, 16, 17, 18, 19, 20]\n",
            "1 2\n",
            "[9, 10, 7, 8, 13, 12, 11, 5, 6, 14, 15, 16, 17, 18, 19, 20]\n",
            "3 4\n",
            "[9, 10, 8, 7, 13, 12, 11, 5, 6, 14, 15, 16, 17, 18, 19, 20]\n",
            "5 6\n",
            "[9, 10, 8, 7, 12, 13, 11, 5, 6, 14, 15, 16, 17, 18, 19, 20]\n",
            "1 20\n",
            "[]\n",
            "1 20\n",
            "[]\n",
            "[]\n"
          ]
        }
      ]
    },
    {
      "cell_type": "code",
      "source": [
        "#카드 역배치_강의 \n",
        "\n",
        "a = list(range(21))\n",
        "\n",
        "for _ in range(10):\n",
        "  s, e = map(int, input().split())\n",
        "\n",
        "  for i in range(e-s+1//2):\n",
        "    a[s+i], a[e-i] = a[e-i], a[s+i]\n",
        "\n",
        "a.pop(0)\n",
        "\n",
        "for x in a:\n",
        "  print(x, end = '')"
      ],
      "metadata": {
        "id": "68S6JwIUkOYD"
      },
      "execution_count": null,
      "outputs": []
    },
    {
      "cell_type": "code",
      "source": [
        "#두 리스트 합치기_다영\n",
        "\n",
        "n = int(input())\n",
        "nlist = list(map(int, input().split()))\n",
        "\n",
        "m = int(input())\n",
        "mlist = list(map(int, input().split()))\n",
        "\n",
        "result = nlist+mlist\n",
        "result.sort()\n",
        "\n",
        "for res in result:\n",
        "  print(res, end = \" \")"
      ],
      "metadata": {
        "colab": {
          "base_uri": "https://localhost:8080/"
        },
        "id": "Dq5kBm9NmFnM",
        "outputId": "8e9dd839-40c8-4ac9-d3b3-d8ce43c2bbe6"
      },
      "execution_count": 6,
      "outputs": [
        {
          "output_type": "stream",
          "name": "stdout",
          "text": [
            "10\n",
            "1 10 27 39 50 61 65 70 93 93 \n",
            "7\n",
            "7 51 65 66 70 82 93 \n",
            "1 7 10 27 39 50 51 61 65 65 66 70 70 82 93 93 93 "
          ]
        }
      ]
    },
    {
      "cell_type": "code",
      "source": [
        "#수들의 합_다영 (1차_오류)\n",
        "\n",
        "n, m = map(int, input().split())\n",
        "a = list(map(int, input().split()))\n",
        "cnt = 0\n",
        "\n",
        "for i in range(n):\n",
        "  for j in range(i+1, n):\n",
        "    if a[i]+a[j] == m:\n",
        "      cnt += 1\n",
        "\n",
        "print(cnt)"
      ],
      "metadata": {
        "colab": {
          "base_uri": "https://localhost:8080/"
        },
        "id": "wqe1reV2mL7C",
        "outputId": "5e1ad442-9aeb-4516-bcb3-a717c5b1c141"
      },
      "execution_count": 7,
      "outputs": [
        {
          "output_type": "stream",
          "name": "stdout",
          "text": [
            "8 3\n",
            "1 2 1 3 1 1 1 2\n",
            "10\n"
          ]
        }
      ]
    },
    {
      "cell_type": "code",
      "source": [
        "#수들의 합_다영 (2차_정답)\n",
        "\n",
        "n, m = map(int, input().split())\n",
        "a = list(map(int, input().split()))\n",
        "s = 0\n",
        "cnt = 0\n",
        "\n",
        "for i in range(n):\n",
        "  s = a[i]\n",
        "\n",
        "  if s == m:\n",
        "    cnt += 1\n",
        "\n",
        "  for j in range(i+1, n):\n",
        "    s += a[j]\n",
        "    if s == m:\n",
        "      cnt += 1\n",
        "      break\n",
        "    elif s > m:\n",
        "      break\n",
        "\n",
        "\n",
        "print(cnt)"
      ],
      "metadata": {
        "colab": {
          "base_uri": "https://localhost:8080/"
        },
        "id": "2lnwQAmIvhXm",
        "outputId": "955537ad-ca45-43e7-a1e0-fc11e61dbd7b"
      },
      "execution_count": 26,
      "outputs": [
        {
          "output_type": "stream",
          "name": "stdout",
          "text": [
            "10000 300000000\n",
            "30000 30000 30000 30000 30000 30000 30000 30000 30000 30000 30000 30000 30000 30000 30000 30000 30000 30000 30000 30000 30000 30000 30000 30000 30000 30000 30000 30000 30000 30000 30000 30000 30000 30000 30000 30000 30000 30000 30000 30000 30000 30000 30000 30000 30000 30000 30000 30000 30000 30000 30000 30000 30000 30000 30000 30000 30000 30000 30000 30000 30000 30000 30000 30000 30000 30000 30000 30000 30000 30000 30000 30000 30000 30000 30000 30000 30000 30000 30000 30000 30000 30000 30000 30000 30000 30000 30000 30000 30000 30000 30000 30000 30000 30000 30000 30000 30000 30000 30000 30000 30000 30000 30000 30000 30000 30000 30000 30000 30000 30000 30000 30000 30000 30000 30000 30000 30000 30000 30000 30000 30000 30000 30000 30000 30000 30000 30000 30000 30000 30000 30000 30000 30000 30000 30000 30000 30000 30000 30000 30000 30000 30000 30000 30000 30000 30000 30000 30000 30000 30000 30000 30000 30000 30000 30000 30000 30000 30000 30000 30000 30000 30000 30000 30000 30000 30000 30000 30000 30000 30000 30000 30000 30000 30000 30000 30000 30000 30000 30000 30000 30000 30000 30000 30000 30000 30000 30000 30000 30000 30000 30000 30000 30000 30000 30000 30000 30000 30000 30000 30000 30000 30000 30000 30000 30000 30000 30000 30000 30000 30000 30000 30000 30000 30000 30000 30000 30000 30000 30000 30000 30000 30000 30000 30000 30000 30000 30000 30000 30000 30000 30000 30000 30000 30000 30000 30000 30000 30000 30000 30000 30000 30000 30000 30000 30000 30000 30000 30000 30000 30000 30000 30000 30000 30000 30000 30000 30000 30000 30000 30000 30000 30000 30000 30000 30000 30000 30000 30000 30000 30000 30000 30000 30000 30000 30000 30000 30000 30000 30000 30000 30000 30000 30000 30000 30000 30000 30000 30000 30000 30000 30000 30000 30000 30000 30000 30000 30000 30000 30000 30000 30000 30000 30000 30000 30000 30000 30000 30000 30000 30000 30000 30000 30000 30000 30000 30000 30000 30000 30000 30000 30000 30000 30000 30000 30000 30000 30000 30000 30000 30000 30000 30000 30000 30000 30000 30000 30000 30000 30000 30000 30000 30000 30000 30000 30000 30000 30000 30000 30000 30000 30000 30000 30000 30000 30000 30000 30000 30000 30000 30000 30000 30000 30000 30000 30000 30000 30000 30000 30000 30000 30000 30000 30000 30000 30000 30000 30000 30000 30000 30000 30000 30000 30000 30000 30000 30000 30000 30000 30000 30000 30000 30000 30000 30000 30000 30000 30000 30000 30000 30000 30000 30000 30000 30000 30000 30000 30000 30000 30000 30000 30000 30000 30000 30000 30000 30000 30000 30000 30000 30000 30000 30000 30000 30000 30000 30000 30000 30000 30000 30000 30000 30000 30000 30000 30000 30000 30000 30000 30000 30000 30000 30000 30000 30000 30000 30000 30000 30000 30000 30000 30000 30000 30000 30000 30000 30000 30000 30000 30000 30000 30000 30000 30000 30000 30000 30000 30000 30000 30000 30000 30000 30000 30000 30000 30000 30000 30000 30000 30000 30000 30000 30000 30000 30000 30000 30000 30000 30000 30000 30000 30000 30000 30000 30000 30000 30000 30000 30000 30000 30000 30000 30000 30000 30000 30000 30000 30000 30000 30000 30000 30000 30000 30000 30000 30000 30000 30000 30000 30000 30000 30000 30000 30000 30000 30000 30000 30000 30000 30000 30000 30000 30000 30000 30000 30000 30000 30000 30000 30000 30000 30000 30000 30000 30000 30000 30000 30000 30000 30000 30000 30000 30000 30000 30000 30000 30000 30000 30000 30000 30000 30000 30000 30000 30000 30000 30000 30000 30000 30000 30000 30000 30000 30000 30000 30000 30000 30000 30000 30000 30000 30000 30000 30000 30000 30000 30000 30000 30000 30000 30000 30000 30000 30000 30000 30000 30000 30000 30000 30000 30000 30000 30000 30000 30000 30000 30000 30000 30000 30000 30000 30000 30000 30000 30000 30000 30000 30000 30000 30000 30000 30000 30000 30000 30000 30000 30000 30000 30000 30000 30000 30000 30000 30000 30000 30000 30000 30000 30000 30000 30000 30000 30000 30000 30000 30000 30000 30000 30000 30000 30000 30000 30000 30000 30000 30000 30000 30000 30000 30000 30000 30000 30000 30000 30000 30000 30000 30000 30000 30000 30000 30000 30000 30000 30000 30000 30000 30000 30000 30000 30000 30000 30000 30000 30000 30000 30000 30000 30000 30000 30000 30000 30000 30000 30000 30000 30000 30000 30000 30000 30000 30000 30000 30000 30000 30000 30000 30000 30000 30000 30000 30000 30000 30000 30000 30000 30000 30000 30000 30000 30000 30000 30000 30000 30000 30000 30000 30000 30000 30000 30000 30000 30000 30000 30000 30000 30000 30000 30000 30000 30000 30000 30000 30000 30000 30000 30000 30000 30000 30000 30000 30000 30000 30000 30000 30000 30000 30000 30000 30000 30000 30000 30000 30000 30000 30000 30000 30000 30000 30000 30000 30000 30000 30000 30000 30000 30000 30000 30000 30000 30000 30000 30000 30000 30000 30000 30000 30000 30000 30000 30000 30000 30000 30000 30000 30000 30000 30000 30000 30000 30000 30000 30000 30000 30000 30000 30000 30000 30000 30000 30000 30000 30000 30000 30000 30000 30000 30000 30000 30000 30000 30000 30000 30000 30000 30000 30000 30000 30000 30000 30000 30000 30000 30000 30000 30000 30000 30000 30000 30000 30000 30000 30000 30000 30000 30000 30000 30000 30000 30000 30000 30000 30000 30000 30000 30000 30000 30000 30000 30000 30000 30000 30000 30000 30000 30000 30000 30000 30000 30000 30000 30000 30000 30000 30000 30000 30000 30000 30000 30000 30000 30000 30000 30000 30000 30000 30000 30000 30000 30000 30000 30000 30000 30000 30000 30000 30000 30000 30000 30000 30000 30000 30000 30000 30000 30000 30000 30000 30000 30000 30000 30000 30000 30000 30000 30000 30000 30000 30000 30000 30000 30000 30000 30000 30000 30000 30000 30000 30000 30000 30000 30000 30000 30000 30000 30000 30000 30000 30000 30000 30000 30000 30000 30000 30000 30000 30000 30000 30000 30000 30000 30000 30000 30000 30000 30000 30000 30000 30000 30000 30000 30000 30000 30000 30000 30000 30000 30000 30000 30000 30000 30000 30000 30000 30000 30000 30000 30000 30000 30000 30000 30000 30000 30000 30000 30000 30000 30000 30000 30000 30000 30000 30000 30000 30000 30000 30000 30000 30000 30000 30000 30000 30000 30000 30000 30000 30000 30000 30000 30000 30000 30000 30000 30000 30000 30000 30000 30000 30000 30000 30000 30000 30000 30000 30000 30000 30000 30000 30000 30000 30000 30000 30000 30000 30000 30000 30000 30000 30000 30000 30000 30000 30000 30000 30000 30000 30000 30000 30000 30000 30000 30000 30000 30000 30000 30000 30000 30000 30000 30000 30000 30000 30000 30000 30000 30000 30000 30000 30000 30000 30000 30000 30000 30000 30000 30000 30000 30000 30000 30000 30000 30000 30000 30000 30000 30000 30000 30000 30000 30000 30000 30000 30000 30000 30000 30000 30000 30000 30000 30000 30000 30000 30000 30000 30000 30000 30000 30000 30000 30000 30000 30000 30000 30000 30000 30000 30000 30000 30000 30000 30000 30000 30000 30000 30000 30000 30000 30000 30000 30000 30000 30000 30000 30000 30000 30000 30000 30000 30000 30000 30000 30000 30000 30000 30000 30000 30000 30000 30000 30000 30000 30000 30000 30000 30000 30000 30000 30000 30000 30000 30000 30000 30000 30000 30000 30000 30000 30000 30000 30000 30000 30000 30000 30000 30000 30000 30000 30000 30000 30000 30000 30000 30000 30000 30000 30000 30000 30000 30000 30000 30000 30000 30000 30000 30000 30000 30000 30000 30000 30000 30000 30000 30000 30000 30000 30000 30000 30000 30000 30000 30000 30000 30000 30000 30000 30000 30000 30000 30000 30000 30000 30000 30000 30000 30000 30000 30000 30000 30000 30000 30000 30000 30000 30000 30000 30000 30000 30000 30000 30000 30000 30000 30000 30000 30000 30000 30000 30000 30000 30000 30000 30000 30000 30000 30000 30000 30000 30000 30000 30000 30000 30000 30000 30000 30000 30000 30000 30000 30000 30000 30000 30000 30000 30000 30000 30000 30000 30000 30000 30000 30000 30000 30000 30000 30000 30000 30000 30000 30000 30000 30000 30000 30000 30000 30000 30000 30000 30000 30000 30000 30000 30000 30000 30000 30000 30000 30000 30000 30000 30000 30000 30000 30000 30000 30000 30000 30000 30000 30000 30000 30000 30000 30000 30000 30000 30000 30000 30000 30000 30000 30000 30000 30000 30000 30000 30000 30000 30000 30000 30000 30000 30000 30000 30000 30000 30000 30000 30000 30000 30000 30000 30000 30000 30000 30000 30000 30000 30000 30000 30000 30000 30000 30000 30000 30000 30000 30000 30000 30000 30000 30000 30000 30000 30000 30000 30000 30000 30000 30000 30000 30000 30000 30000 30000 30000 30000 30000 30000 30000 30000 30000 30000 30000 30000 30000 30000 30000 30000 30000 30000 30000 30000 30000 30000 30000 30000 30000 30000 30000 30000 30000 30000 30000 30000 30000 30000 30000 30000 30000 30000 30000 30000 30000 30000 30000 30000 30000 30000 30000 30000 30000 30000 30000 30000 30000 30000 30000 30000 30000 30000 30000 30000 30000 30000 30000 30000 30000 30000 30000 30000 30000 30000 30000 30000 30000 30000 30000 30000 30000 30000 30000 30000 30000 30000 30000 30000 30000 30000 30000 30000 30000 30000 30000 30000 30000 30000 30000 30000 30000 30000 30000 30000 30000 30000 30000 30000 30000 30000 30000 30000 30000 30000 30000 30000 30000 30000 30000 30000 30000 30000 30000 30000 30000 30000 30000 30000 30000 30000 30000 30000 30000 30000 30000 30000 30000 30000 30000 30000 30000 30000 30000 30000 30000 30000 30000 30000 30000 30000 30000 30000 30000 30000 30000 30000 30000 30000 30000 30000 30000 30000 30000 30000 30000 30000 30000 30000 30000 30000 30000 30000 30000 30000 30000 30000 30000 30000 30000 30000 30000 30000 30000 30000 30000 30000 30000 30000 30000 30000 30000 30000 30000 30000 30000 30000 30000 30000 30000 30000 30000 30000 30000 30000 30000 30000 30000 30000 30000 30000 30000 30000 30000 30000 30000 30000 30000 30000 30000 30000 30000 30000 30000 30000 30000 30000 30000 30000 30000 30000 30000 30000 30000 30000 30000 30000 30000 30000 30000 30000 30000 30000 30000 30000 30000 30000 30000 30000 30000 30000 30000 30000 30000 30000 30000 30000 30000 30000 30000 30000 30000 30000 30000 30000 30000 30000 30000 30000 30000 30000 30000 30000 30000 30000 30000 30000 30000 30000 30000 30000 30000 30000 30000 30000 30000 30000 30000 30000 30000 30000 30000 30000 30000 30000 30000 30000 30000 30000 30000 30000 30000 30000 30000 30000 30000 30000 30000 30000 30000 30000 30000 30000 30000 30000 30000 30000 30000 30000 30000 30000 30000 30000 30000 30000 30000 30000 30000 30000 30000 30000 30000 30000 30000 30000 30000 30000 30000 30000 30000 30000 30000 30000 30000 30000 30000 30000 30000 30000 30000 30000 30000 30000 30000 30000 30000 30000 30000 30000 30000 30000 30000 30000 30000 30000 30000 30000 30000 30000 30000 30000 30000 30000 30000 30000 30000 30000 30000 30000 30000 30000 30000 30000 30000 30000 30000 30000 30000 30000 30000 30000 30000 30000 30000 30000 30000 30000 30000 30000 30000 30000 30000 30000 30000 30000 30000 30000 30000 30000 30000 30000 30000 30000 30000 30000 30000 30000 30000 30000 30000 30000 30000 30000 30000 30000 30000 30000 30000 30000 30000 30000 30000 30000 30000 30000 30000 30000 30000 30000 30000 30000 30000 30000 30000 30000 30000 30000 30000 30000 30000 30000 30000 30000 30000 30000 30000 30000 30000 30000 30000 30000 30000 30000 30000 30000 30000 30000 30000 30000 30000 30000 30000 30000 30000 30000 30000 30000 30000 30000 30000 30000 30000 30000 30000 30000 30000 30000 30000 30000 30000 30000 30000 30000 30000 30000 30000 30000 30000 30000 30000 30000 30000 30000 30000 30000 30000 30000 30000 30000 30000 30000 30000 30000 30000 30000 30000 30000 30000 30000 30000 30000 30000 30000 30000 30000 30000 30000 30000 30000 30000 30000 30000 30000 30000 30000 30000 30000 30000 30000 30000 30000 30000 30000 30000 30000 30000 30000 30000 30000 30000 30000 30000 30000 30000 30000 30000 30000 30000 30000 30000 30000 30000 30000 30000 30000 30000 30000 30000 30000 30000 30000 30000 30000 30000 30000 30000 30000 30000 30000 30000 30000 30000 30000 30000 30000 30000 30000 30000 30000 30000 30000 30000 30000 30000 30000 30000 30000 30000 30000 30000 30000 30000 30000 30000 30000 30000 30000 30000 30000 30000 30000 30000 30000 30000 30000 30000 30000 30000 30000 30000 30000 30000 30000 30000 30000 30000 30000 30000 30000 30000 30000 30000 30000 30000 30000 30000 30000 30000 30000 30000 30000 30000 30000 30000 30000 30000 30000 30000 30000 30000 30000 30000 30000 30000 30000 30000 30000 30000 30000 30000 30000 30000 30000 30000 30000 30000 30000 30000 30000 30000 30000 30000 30000 30000 30000 30000 30000 30000 30000 30000 30000 30000 30000 30000 30000 30000 30000 30000 30000 30000 30000 30000 30000 30000 30000 30000 30000 30000 30000 30000 30000 30000 30000 30000 30000 30000 30000 30000 30000 30000 30000 30000 30000 30000 30000 30000 30000 30000 30000 30000 30000 30000 30000 30000 30000 30000 30000 30000 30000 30000 30000 30000 30000 30000 30000 30000 30000 30000 30000 30000 30000 30000 30000 30000 30000 30000 30000 30000 30000 30000 30000 30000 30000 30000 30000 30000 30000 30000 30000 30000 30000 30000 30000 30000 30000 30000 30000 30000 30000 30000 30000 30000 30000 30000 30000 30000 30000 30000 30000 30000 30000 30000 30000 30000 30000 30000 30000 30000 30000 30000 30000 30000 30000 30000 30000 30000 30000 30000 30000 30000 30000 30000 30000 30000 30000 30000 30000 30000 30000 30000 30000 30000 30000 30000 30000 30000 30000 30000 30000 30000 30000 30000 30000 30000 30000 30000 30000 30000 30000 30000 30000 30000 30000 30000 30000 30000 30000 30000 30000 30000 30000 30000 30000 30000 30000 30000 30000 30000 30000 30000 30000 30000 30000 30000 30000 30000 30000 30000 30000 30000 30000 30000 30000 30000 30000 30000 30000 30000 30000 30000 30000 30000 30000 30000 30000 30000 30000 30000 30000 30000 30000 30000 30000 30000 30000 30000 30000 30000 30000 30000 30000 30000 30000 30000 30000 30000 30000 30000 30000 30000 30000 30000 30000 30000 30000 30000 30000 30000 30000 30000 30000 30000 30000 30000 30000 30000 30000 30000 30000 30000 30000 30000 30000 30000 30000 30000 30000 30000 30000 30000 30000 30000 30000 30000 30000 30000 30000 30000 30000 30000 30000 30000 30000 30000 30000 30000 30000 30000 30000 30000 30000 30000 30000 30000 30000 30000 30000 30000 30000 30000 30000 30000 30000 30000 30000 30000 30000 30000 30000 30000 30000 30000 30000 30000 30000 30000 30000 30000 30000 30000 30000 30000 30000 30000 30000 30000 30000 30000 30000 30000 30000 30000 30000 30000 30000 30000 30000 30000 30000 30000 30000 30000 30000 30000 30000 30000 30000 30000 30000 30000 30000 30000 30000 30000 30000 30000 30000 30000 30000 30000 30000 30000 30000 30000 30000 30000 30000 30000 30000 30000 30000 30000 30000 30000 30000 30000 30000 30000 30000 30000 30000 30000 30000 30000 30000 30000 30000 30000 30000 30000 30000 30000 30000 30000 30000 30000 30000 30000 30000 30000 30000 30000 30000 30000 30000 30000 30000 30000 30000 30000 30000 30000 30000 30000 30000 30000 30000 30000 30000 30000 30000 30000 30000 30000 30000 30000 30000 30000 30000 30000 30000 30000 30000 30000 30000 30000 30000 30000 30000 30000 30000 30000 30000 30000 30000 30000 30000 30000 30000 30000 30000 30000 30000 30000 30000 30000 30000 30000 30000 30000 30000 30000 30000 30000 30000 30000 30000 30000 30000 30000 30000 30000 30000 30000 30000 30000 30000 30000 30000 30000 30000 30000 30000 30000 30000 30000 30000 30000 30000 30000 30000 30000 30000 30000 30000 30000 30000 30000 30000 30000 30000 30000 30000 30000 30000 30000 30000 30000 30000 30000 30000 30000 30000 30000 30000 30000 30000 30000 30000 30000 30000 30000 30000 30000 30000 30000 30000 30000 30000 30000 30000 30000 30000 30000 30000 30000 30000 30000 30000 30000 30000 30000 30000 30000 30000 30000 30000 30000 30000 30000 30000 30000 30000 30000 30000 30000 30000 30000 30000 30000 30000 30000 30000 30000 30000 30000 30000 30000 30000 30000 30000 30000 30000 30000 30000 30000 30000 30000 30000 30000 30000 30000 30000 30000 30000 30000 30000 30000 30000 30000 30000 30000 30000 30000 30000 30000 30000 30000 30000 30000 30000 30000 30000 30000 30000 30000 30000 30000 30000 30000 30000 30000 30000 30000 30000 30000 30000 30000 30000 30000 30000 30000 30000 30000 30000 30000 30000 30000 30000 30000 30000 30000 30000 30000 30000 30000 30000 30000 30000 30000 30000 30000 30000 30000 30000 30000 30000 30000 30000 30000 30000 30000 30000 30000 30000 30000 30000 30000 30000 30000 30000 30000 30000 30000 30000 30000 30000 30000 30000 30000 30000 30000 30000 30000 30000 30000 30000 30000 30000 30000 30000 30000 30000 30000 30000 30000 30000 30000 30000 30000 30000 30000 30000 30000 30000 30000 30000 30000 30000 30000 30000 30000 30000 30000 30000 30000 30000 30000 30000 30000 30000 30000 30000 30000 30000 30000 30000 30000 30000 30000 30000 30000 30000 30000 30000 30000 30000 30000 30000 30000 30000 30000 30000 30000 30000 30000 30000 30000 30000 30000 30000 30000 30000 30000 30000 30000 30000 30000 30000 30000 30000 30000 30000 30000 30000 30000 30000 30000 30000 30000 30000 30000 30000 30000 30000 30000 30000 30000 30000 30000 30000 30000 30000 30000 30000 30000 30000 30000 30000 30000 30000 30000 30000 30000 30000 30000 30000 30000 30000 30000 30000 30000 30000 30000 30000 30000 30000 30000 30000 30000 30000 30000 30000 30000 30000 30000 30000 30000 30000 30000 30000 30000 30000 30000 30000 30000 30000 30000 30000 30000 30000 30000 30000 30000 30000 30000 30000 30000 30000 30000 30000 30000 30000 30000 30000 30000 30000 30000 30000 30000 30000 30000 30000 30000 30000 30000 30000 30000 30000 30000 30000 30000 30000 30000 30000 30000 30000 30000 30000 30000 30000 30000 30000 30000 30000 30000 30000 30000 30000 30000 30000 30000 30000 30000 30000 30000 30000 30000 30000 30000 30000 30000 30000 30000 30000 30000 30000 30000 30000 30000 30000 30000 30000 30000 30000 30000 30000 30000 30000 30000 30000 30000 30000 30000 30000 30000 30000 30000 30000 30000 30000 30000 30000 30000 30000 30000 30000 30000 30000 30000 30000 30000 30000 30000 30000 30000 30000 30000 30000 30000 30000 30000 30000 30000 30000 30000 30000 30000 30000 30000 30000 30000 30000 30000 30000 30000 30000 30000 30000 30000 30000 30000 30000 30000 30000 30000 30000 30000 30000 30000 30000 30000 30000 30000 30000 30000 30000 30000 30000 30000 30000 30000 30000 30000 30000 30000 30000 30000 30000 30000 30000 30000 30000 30000 30000 30000 30000 30000 30000 30000 30000 30000 30000 30000 30000 30000 30000 30000 30000 30000 30000 30000 30000 30000 30000 30000 30000 30000 30000 30000 30000 30000 30000 30000 30000 30000 30000 30000 30000 30000 30000 30000 30000 30000 30000 30000 30000 30000 30000 30000 30000 30000 30000 30000 30000 30000 30000 30000 30000 30000 30000 30000 30000 30000 30000 30000 30000 30000 30000 30000 30000 30000 30000 30000 30000 30000 30000 30000 30000 30000 30000 30000 30000 30000 30000 30000 30000 30000 30000 30000 30000 30000 30000 30000 30000 30000 30000 30000 30000 30000 30000 30000 30000 30000 30000 30000 30000 30000 30000 30000 30000 30000 30000 30000 30000 30000 30000 30000 30000 30000 30000 30000 30000 30000 30000 30000 30000 30000 30000 30000 30000 30000 30000 30000 30000 30000 30000 30000 30000 30000 30000 30000 30000 30000 30000 30000 30000 30000 30000 30000 30000 30000 30000 30000 30000 30000 30000 30000 30000 30000 30000 30000 30000 30000 30000 30000 30000 30000 30000 30000 30000 30000 30000 30000 30000 30000 30000 30000 30000 30000 30000 30000 30000 30000 30000 30000 30000 30000 30000 30000 30000 30000 30000 30000 30000 30000 30000 30000 30000 30000 30000 30000 30000 30000 30000 30000 30000 30000 30000 30000 30000 30000 30000 30000 30000 30000 30000 30000 30000 30000 30000 30000 30000 30000 30000 30000 30000 30000 30000 30000 30000 30000 30000 30000 30000 30000 30000 30000 30000 30000 30000 30000 30000 30000 30000 30000 30000 30000 30000 30000 30000 30000 30000 30000 30000 30000 30000 30000 30000 30000 30000 30000 30000 30000 30000 30000 30000 30000 30000 30000 30000 30000 30000 30000 30000 30000 30000 30000 30000 30000 30000 30000 30000 30000 30000 30000 30000 30000 30000 30000 30000 30000 30000 30000 30000 30000 30000 30000 30000 30000 30000 30000 30000 30000 30000 30000 30000 30000 30000 30000 30000 30000 30000 30000 30000 30000 30000 30000 30000 30000 30000 30000 30000 30000 30000 30000 30000 30000 30000 30000 30000 30000 30000 30000 30000 30000 30000 30000 30000 30000 30000 30000 30000 30000 30000 30000 30000 30000 30000 30000 30000 30000 30000 30000 30000 30000 30000 30000 30000 30000 30000 30000 30000 30000 30000 30000 30000 30000 30000 30000 30000 30000 30000 30000 30000 30000 30000 30000 30000 30000 30000 30000 30000 30000 30000 30000 30000 30000 30000 30000 30000 30000 30000 30000 30000 30000 30000 30000 30000 30000 30000 30000 30000 30000 30000 30000 30000 30000 30000 30000 30000 30000 30000 30000 30000 30000 30000 30000 30000 30000 30000 30000 30000 30000 30000 30000 30000 30000 30000 30000 30000 30000 30000 30000 30000 30000 30000 30000 30000 30000 30000 30000 30000 30000 30000 30000 30000 30000 30000 30000 30000 30000 30000 30000 30000 30000 30000 30000 30000 30000 30000 30000 30000 30000 30000 30000 30000 30000 30000 30000 30000 30000 30000 30000 30000 30000 30000 30000 30000 30000 30000 30000 30000 30000 30000 30000 30000 30000 30000 30000 30000 30000 30000 30000 30000 30000 30000 30000 30000 30000 30000 30000 30000 30000 30000 30000 30000 30000 30000 30000 30000 30000 30000 30000 30000 30000 30000 30000 30000 30000 30000 30000 30000 30000 30000 30000 30000 30000 30000 30000 30000 30000 30000 30000 30000 30000 30000 30000 30000 30000 30000 30000 30000 30000 30000 30000 30000 30000 30000 30000 30000 30000 30000 30000 30000 30000 30000 30000 30000 30000 30000 30000 30000 30000 30000 30000 30000 30000 30000 30000 30000 30000 30000 30000 30000 30000 30000 30000 30000 30000 30000 30000 30000 30000 30000 30000 30000 30000 30000 30000 30000 30000 30000 30000 30000 30000 30000 30000 30000 30000 30000 30000 30000 30000 30000 30000 30000 30000 30000 30000 30000 30000 30000 30000 30000 30000 30000 30000 30000 30000 30000 30000 30000 30000 30000 30000 30000 30000 30000 30000 30000 30000 30000 30000 30000 30000 30000 30000 30000 30000 30000 30000 30000 30000 30000 30000 30000 30000 30000 30000 30000 30000 30000 30000 30000 30000 30000 30000 30000 30000 30000 30000 30000 30000 30000 30000 30000 30000 30000 30000 30000 30000 30000 30000 30000 30000 30000 30000 30000 30000 30000 30000 30000 30000 30000 30000 30000 30000 30000 30000 30000 30000 30000 30000 30000 30000 30000 30000 30000 30000 30000 30000 30000 30000 30000 30000 30000 30000 30000 30000 30000 30000 30000 30000 30000 30000 30000 30000 30000 30000 30000 30000 30000 30000 30000 30000 30000 30000 30000 30000 30000 30000 30000 30000 30000 30000 30000 30000 30000 30000 30000 30000 30000 30000 30000 30000 30000 30000 30000 30000 30000 30000 30000 30000 30000 30000 30000 30000 30000 30000 30000 30000 30000 30000 30000 30000 30000 30000 30000 30000 30000 30000 30000 30000 30000 30000 30000 30000 30000 30000 30000 30000 30000 30000 30000 30000 30000 30000 30000 30000 30000 30000 30000 30000 30000 30000 30000 30000 30000 30000 30000 30000 30000 30000 30000 30000 30000 30000 30000 30000 30000 30000 30000 30000 30000 30000 30000 30000 30000 30000 30000 30000 30000 30000 30000 30000 30000 30000 30000 30000 30000 30000 30000 30000 30000 30000 30000 30000 30000 30000 30000 30000 30000 30000 30000 30000 30000 30000 30000 30000 30000 30000 30000 30000 30000 30000 30000 30000 30000 30000 30000 30000 30000 30000 30000 30000 30000 30000 30000 30000 30000 30000 30000 30000 30000 30000 30000 30000 30000 30000 30000 30000 30000 30000 30000 30000 30000 30000 30000 30000 30000 30000 30000 30000 30000 30000 30000 30000 30000 30000 30000 30000 30000 30000 30000 30000 30000 30000 30000 30000 30000 30000 30000 30000 30000 30000 30000 30000 30000 30000 30000 30000 30000 30000 30000 30000 30000 30000 30000 30000 30000 30000 30000 30000 30000 30000 30000 30000 30000 30000 30000 30000 30000 30000 30000 30000 30000 30000 30000 30000 30000 30000 30000 30000 30000 30000 30000 30000 30000 30000 30000 30000 30000 30000 30000 30000 30000 30000 30000 30000 30000 30000 30000 30000 30000 30000 30000 30000 30000 30000 30000 30000 30000 30000 30000 30000 30000 30000 30000 30000 30000 30000 30000 30000 30000 30000 30000 30000 30000 30000 30000 30000 30000 30000 30000 30000 30000 30000 30000 30000 30000 30000 30000 30000 30000 30000 30000 30000 30000 30000 30000 30000 30000 30000 30000 30000 30000 30000 30000 30000 30000 30000 30000 30000 30000 30000 30000 30000 30000 30000 30000 30000 30000 30000 30000 30000 30000 30000 30000 30000 30000 30000 30000 30000 30000 30000 30000 30000 30000 30000 30000 30000 30000 30000 30000 30000 30000 30000 30000 30000 30000 30000 30000 30000 30000 30000 30000 30000 30000 30000 30000 30000 30000 30000 30000 30000 30000 30000 30000 30000 30000 30000 30000 30000 30000 30000 30000 30000 30000 30000 30000 30000 30000 30000 30000 30000 30000 30000 30000 30000 30000 30000 30000 30000 30000 30000 30000 30000 30000 30000 30000 30000 30000 30000 30000 30000 30000 30000 30000 30000 30000 30000 30000 30000 30000 30000 30000 30000 30000 30000 30000 30000 30000 30000 30000 30000 30000 30000 30000 30000 30000 30000 30000 30000 30000 30000 30000 30000 30000 30000 30000 30000 30000 30000 30000 30000 30000 30000 30000 30000 30000 30000 30000 30000 30000 30000 30000 30000 30000 30000 30000 30000 30000 30000 30000 30000 30000 30000 30000 30000 30000 30000 30000 30000 30000 30000 30000 30000 30000 30000 30000 30000 30000 30000 30000 30000 30000 30000 30000 30000 30000 30000 30000 30000 30000 30000 30000 30000 30000 30000 30000 30000 30000 30000 30000 30000 30000 30000 30000 30000 30000 30000 30000 30000 30000 30000 30000 30000 30000 30000 30000 30000 30000 30000 30000 30000 30000 30000 30000 30000 30000 30000 30000 30000 30000 30000 30000 30000 30000 30000 30000 30000 30000 30000 30000 30000 30000 30000 30000 30000 30000 30000 30000 30000 30000 30000 30000 30000 30000 30000 30000 30000 30000 30000 30000 30000 30000 30000 30000 30000 30000 30000 30000 30000 30000 30000 30000 30000 30000 30000 30000 30000 30000 30000 30000 30000 30000 30000 30000 30000 30000 30000 30000 30000 30000 30000 30000 30000 30000 30000 30000 30000 30000 30000 30000 30000 30000 30000 30000 30000 30000 30000 30000 30000 30000 30000 30000 30000 30000 30000 30000 30000 30000 30000 30000 30000 30000 30000 30000 30000 30000 30000 30000 30000 30000 30000 30000 30000 30000 30000 30000 30000 30000 30000 30000 30000 30000 30000 30000 30000 30000 30000 30000 30000 30000 30000 30000 30000 30000 30000 30000 30000 30000 30000 30000 30000 30000 30000 30000 30000 30000 30000 30000 30000 30000 30000 30000 30000 30000 30000 30000 30000 30000 30000 30000 30000 30000 30000 30000 30000 30000 30000 30000 30000 30000 30000 30000 30000 30000 30000 30000 30000 30000 30000 30000 30000 30000 30000 30000 30000 30000 30000 30000 30000 30000 30000 30000 30000 30000 30000 30000 30000 30000 30000 30000 30000 30000 30000 30000 30000 30000 30000 30000 30000 30000 30000 30000 30000 30000 30000 30000 30000 30000 30000 30000 30000 30000 30000 30000 30000 30000 30000 30000 30000 30000 30000 30000 30000 30000 30000 30000 30000 30000 30000 30000 30000 30000 30000 30000 30000 30000 30000 30000 30000 30000 30000 30000 30000 30000 30000 30000 30000 30000 30000 30000 30000 30000 30000 30000 30000 30000 30000 30000 30000 30000 30000 30000 30000 30000 30000 30000 30000 30000 30000 30000 30000 30000 30000 30000 30000 30000 30000 30000 30000 30000 30000 30000 30000 30000 30000 30000 30000 30000 30000 30000 30000 30000 30000 30000 30000 30000 30000 30000 30000 30000 30000 30000 30000 30000 30000 30000 30000 30000 30000 30000 30000 30000 30000 30000 30000 30000 30000 30000 30000 30000 30000 30000 30000 30000 30000 30000 30000 30000 30000 30000 30000 30000 30000 30000 30000 30000 30000 30000 30000 30000 30000 30000 30000 30000 30000 30000 30000 30000 30000 30000 30000 30000 30000 30000 30000 30000 30000 30000 30000 30000 30000 30000 30000 30000 30000 30000 30000 30000 30000 30000 30000 30000 30000 30000 30000 30000 30000 30000 30000 30000 30000 30000 30000 30000 30000 30000 30000 30000 30000 30000 30000 30000 30000 30000 30000 30000 30000 30000 30000 30000 30000 30000 30000 30000 30000 30000 30000 30000 30000 30000 30000 30000 30000 30000 30000 30000 30000 30000 30000 30000 30000 30000 30000 30000 30000 30000 30000 30000 30000 30000 30000 30000 30000 30000 30000 30000 30000 30000 30000 30000 30000 30000 30000 30000 30000 30000 30000 30000 30000 30000 30000 30000 30000 30000 30000 30000 30000 30000 30000 30000 30000 30000 30000 30000 30000 30000 30000 30000 30000 30000 30000 30000 30000 30000 30000 30000 30000 30000 30000 30000 30000 30000 30000 30000 30000 30000 30000 30000 30000 30000 30000 30000 30000 30000 30000 30000 30000 30000 30000 30000 30000 30000 30000 30000 30000 30000 30000 30000 30000 30000 30000 30000 30000 30000 30000 30000 30000 30000 30000 30000 30000 30000 30000 30000 30000 30000 30000 30000 30000 30000 30000 30000 30000 30000 30000 30000 30000 30000 30000 30000 30000 30000 30000 30000 30000 30000 30000 30000 30000 30000 30000 30000 30000 30000 30000 30000 30000 30000 30000 30000 30000 30000 30000 30000 30000 30000 30000 30000 30000 30000 30000 30000 30000 30000 30000 30000 30000 30000 30000 30000 30000 30000 30000 30000 30000 30000 30000 30000 30000 30000 30000 30000 30000 30000 30000 30000 30000 30000 30000 30000 30000 30000 30000 30000 30000 30000 30000 30000 30000 30000 30000 30000 30000 30000 30000 30000 30000 30000 30000 30000 30000 30000 30000 30000 30000 30000 30000 30000 30000 30000 30000 30000 30000 30000 30000 30000 30000 30000 30000 30000 30000 30000 30000 30000 30000 30000 30000 30000 30000 30000 30000 30000 30000 30000 30000 30000 30000 30000 30000 30000 30000 30000 30000 30000 30000 30000 30000 30000 30000 30000 30000 30000 30000 30000 30000 30000 30000 30000 30000 30000 30000 30000 30000 30000 30000 30000 30000 30000 30000 30000 30000 30000 30000 30000 30000 30000 30000 30000 30000 30000 30000 30000 30000 30000 30000 30000 30000 30000 30000 30000 30000 30000 30000 30000 30000 30000 30000 30000 30000 30000 30000 30000 30000 30000 30000 30000 30000 30000 30000 30000 30000 30000 30000 30000 30000 30000 30000 30000 30000 30000 30000 30000 30000 30000 30000 30000 30000 30000 30000 30000 30000 30000 30000 30000 30000 30000 30000 30000 30000 30000 30000 30000 30000 30000 30000 30000 30000 30000 30000 30000 30000 30000 30000 30000 30000 30000 30000 30000 30000 30000 30000 30000 30000 30000 30000 30000 30000 30000 30000 30000 30000 30000 30000 30000 30000 30000 30000 30000 30000 30000 30000 30000 30000 30000 30000 30000 30000 30000 30000 30000 30000 30000 30000 30000 30000 30000 30000 30000 30000 30000 30000 30000 30000 30000 30000 30000 30000 30000 30000 30000 30000 30000 30000 30000 30000 30000 30000 30000 30000 30000 30000 30000 30000 30000 30000 30000 30000 30000 30000 30000 30000 30000 30000 30000 30000 30000 30000 30000 30000 30000 30000 30000 30000 30000 30000 30000 30000 30000 30000 30000 30000 30000 30000 30000 30000 30000 30000 30000 30000 30000 30000 30000 30000 30000 30000 30000 30000 30000 30000 30000 30000 30000 30000 30000 30000 30000 30000 30000 30000 30000 30000 30000 30000 30000 30000 30000 30000 30000 30000 30000 30000 30000 30000 30000 30000 30000 30000 30000 30000 30000 30000 30000 30000 30000 30000 30000 30000 30000 30000 30000 30000 30000 30000 30000 30000 30000 30000 30000 30000 30000 30000 30000 30000 30000 30000 30000 30000 30000 30000 30000 30000 30000 30000 30000 30000 30000 30000 30000 30000 30000 30000 30000 30000 30000 30000 30000 30000 30000 30000 30000 30000 30000 30000 30000 30000 30000 30000 30000 30000 30000 30000 30000 30000 30000 30000 30000 30000 30000 30000 30000 30000 30000 30000 30000 30000 30000 30000 30000 30000 30000 30000 30000 30000 30000 30000 30000 30000 30000 30000 30000 30000 30000 30000 30000 30000 30000 30000 30000 30000 30000 30000 30000 30000 30000 30000 30000 30000 30000 30000 30000 30000 30000 30000 30000 30000 30000 30000 30000 30000 30000 30000 30000 30000 30000 30000 30000 30000 30000 30000 30000 30000 30000 30000 30000 30000 30000 30000 30000 30000 30000 30000 30000 30000 30000 30000 30000 30000 30000 30000 30000 30000 30000 30000 30000 30000 30000 30000 30000 30000 30000 30000 30000 30000 30000 30000 30000 30000 30000 30000 30000 30000 30000 30000 30000 30000 30000 30000 30000 30000 30000 30000 30000 30000 30000 30000 30000 30000 30000 30000 30000 30000 30000 30000 30000 30000 30000 30000 30000 30000 30000 30000 30000 30000 30000 30000 30000 30000 30000 30000 30000 30000 30000 30000 30000 30000 30000 30000 30000 30000 30000 30000 30000 30000 30000 30000 30000 30000 30000 30000 30000 30000 30000 30000 30000 30000 30000 30000 30000 30000 30000 30000 30000 30000 30000 30000 30000 30000 30000 30000 30000 30000 30000 30000 30000 30000 30000 30000 30000 30000 30000 30000 30000 30000 30000 30000 30000 30000 30000 30000 30000 30000 30000 30000 30000 30000 30000 30000 30000 30000 30000 30000 30000 30000 30000 30000 30000 30000 30000 30000 30000 30000 30000 30000 30000 30000 30000 30000 30000 30000 30000 30000 30000 30000 30000 30000 30000 30000 30000 30000 30000 30000 30000 30000 30000 30000 30000 30000 30000 30000 30000 30000 30000 30000 30000 30000 30000 30000 30000 30000 30000 30000 30000 30000 30000 30000 30000 30000 30000 30000 30000 30000 30000 30000 30000 30000 30000 30000 30000 30000 30000 30000 30000 30000 30000 30000 30000 30000 30000 30000 30000 30000 30000 30000 30000 30000 30000 30000 30000 30000 30000 30000 30000 30000 30000 30000 30000 30000 30000 30000 30000 30000 30000 30000 30000 30000 30000 30000 30000 30000 30000 30000 30000 30000 30000 30000 30000 30000 30000 30000 30000 30000 30000 30000 30000 30000 30000 30000 30000 30000 30000 30000 30000 30000 30000 30000 30000 30000 30000 30000 30000 30000 30000 30000 30000 30000 30000 30000 30000 30000 30000 30000 30000 30000 30000 30000 30000 30000 30000 30000 30000 30000 30000 30000 30000 30000 30000 30000 30000 30000 30000 30000 30000 30000 30000 30000 30000 30000 30000 30000 30000 30000 30000 30000 30000 30000 30000 30000 30000 30000 30000 30000 30000 30000 30000 30000 30000 30000 30000 30000 30000 30000 30000 30000 30000 30000 30000 30000 30000 30000 30000 30000 30000 30000 30000 30000 30000 30000 30000 30000 30000 30000 30000 30000 30000 30000 30000 30000 30000 30000 30000 30000 30000 30000 30000 30000 30000 30000 30000 30000 30000 30000 30000 30000 30000 30000 30000 30000 30000 30000 30000 30000 30000 30000 30000 30000 30000 30000 30000 30000 30000 30000 30000 30000 30000 30000 30000 30000 30000 30000 30000 30000 30000 30000 30000 30000 30000 30000 30000 30000 30000 30000 30000 30000 30000 30000 30000 30000 30000 30000 30000 30000 30000 30000 30000 30000 30000 30000 30000 30000 30000 30000 30000 30000 30000 30000 30000 30000 30000 30000 30000 30000 30000 30000 30000 30000 30000 30000 30000 30000 30000 30000 30000 30000 30000 30000 30000 30000 30000 30000 30000 30000 30000 30000 30000 30000 30000 30000 30000 30000 30000 30000 30000 30000 30000 30000 30000 30000 30000 30000 30000 30000 30000 30000 30000 30000 30000 30000 30000 30000 30000 30000 30000 30000 30000 30000 30000 30000 30000 30000 30000 30000 30000 30000 30000 30000 30000 30000 30000 30000 30000 30000 30000 30000 30000 30000 30000 30000 30000 30000 30000 30000 30000 30000 30000 30000 30000 30000 30000 30000 30000 30000 30000 30000 30000 30000 30000 30000 30000 30000 30000 30000 30000 30000 30000 30000 30000 30000 30000 30000 30000 30000 30000 30000 30000 30000 30000 30000 30000 30000 30000 30000 30000 30000 30000 30000 30000 30000 30000 30000 30000 30000 30000 30000 30000 30000 30000 30000 30000 30000 30000 30000 30000 30000 30000 30000 30000 30000 30000 30000 30000 30000 30000 30000 30000 30000 30000 30000 30000 30000 30000 30000 30000 30000 30000 30000 30000 30000 30000 30000 30000 30000 30000 30000 30000 30000 30000 30000 30000 30000 30000 30000 30000 30000 30000 30000 30000 30000 30000 30000 30000 30000 30000 30000 30000 30000 30000 30000 30000 30000 30000 30000 30000 30000 30000 30000 30000 30000 30000 30000 30000 30000 30000 30000 30000 30000 30000 30000 30000 30000 30000 30000 30000 30000 30000 30000 30000 30000 30000 30000 30000 30000 30000 30000 30000 30000 30000 30000 30000 30000 30000 30000 30000 30000 30000 30000 30000 30000 30000 30000 30000 30000 30000 30000 30000 30000 30000 30000 30000 30000 30000 30000 30000 30000 30000 30000 30000 30000 30000 30000 30000 30000 30000 30000 30000 30000 30000 30000 30000 30000 30000 30000 30000 30000 30000 30000 30000 30000 30000 30000 30000 30000 30000 30000 30000 30000 30000 30000 30000 30000 30000 30000 30000 30000 30000 30000 30000 30000 30000 30000 30000 30000 30000 30000 30000 30000 30000 30000 30000 30000 30000 30000 30000 30000 30000 30000 30000 30000 30000 30000 30000 30000 30000 30000 30000 30000 30000 30000 30000 30000 30000 30000 30000 30000 30000 30000 30000 30000 30000 30000 30000 30000 30000 30000 30000 30000 30000 30000 30000 30000 30000 30000 30000 30000 30000 30000 30000 30000 30000 30000 30000 30000 30000 30000 30000 30000 30000 30000 30000 30000 30000 30000 30000 30000 30000 30000 30000 30000 30000 30000 30000 30000 30000 30000 30000 30000 30000 30000 30000 30000 30000 30000 30000 30000 30000 30000 30000 30000 30000 30000 30000 30000 30000 30000 30000 30000 30000 30000 30000 30000 30000 30000 30000 30000 30000 30000 30000 30000 30000 30000 30000 30000 30000 30000 30000 30000 30000 30000 30000 30000 30000 30000 30000 30000 30000 30000 30000 30000 30000 30000 30000 30000 30000 30000 30000 30000 30000 30000 30000 30000 30000 30000 30000 30000 30000 30000 30000 30000 30000 30000 30000 30000 30000 30000 30000 30000 30000 30000 30000 30000 30000 30000 30000 30000 30000 30000 30000 30000 30000 30000 30000 30000 30000 30000 30000 30000 30000 30000 30000 30000 30000 30000 30000 30000 30000 30000 30000 30000 30000 30000 30000 30000 30000 30000 30000 30000 30000 30000 30000 30000 30000 30000 30000 30000 30000 30000 30000 30000 30000 30000 30000 30000 30000 30000 30000 30000 30000 30000 30000 30000 30000 30000 30000 30000 30000 30000 30000 30000 30000 30000 30000 30000 30000 30000 30000 30000 30000 30000 30000 30000 30000 30000 30000 30000 30000 30000 30000 30000 30000 30000 30000 30000 30000 30000 30000 30000 30000 30000 30000 30000 30000 30000 30000 30000 30000 30000 30000 30000 30000 30000 30000 30000 30000 30000 30000 30000 30000 30000 30000 30000 30000 30000 30000 30000 30000 30000 30000 30000 30000 30000 30000 30000 30000 30000 30000 30000 30000 30000 30000 30000 30000 30000 30000 30000 30000 30000 30000 30000 30000 30000 30000 30000 30000 30000 30000 30000 30000 30000 30000 30000 30000 30000 30000 30000 30000 30000 30000 30000 30000 30000 30000 30000 30000 30000 30000 30000 30000 30000 30000 30000 30000 30000 30000 30000 30000 30000 30000 30000 30000 30000 30000 30000 30000 30000 30000 30000 30000 30000 30000 30000 30000 30000 30000 30000 30000 30000 30000 30000 30000 30000 30000 30000 30000 30000 30000 30000 30000 30000 30000 30000 30000 30000 30000 30000 30000 30000 30000 30000 30000 30000 30000 30000 30000 30000 30000 30000 30000 30000 30000 30000 30000 30000 30000 30000 30000 30000 30000 30000 30000 30000 30000 30000 30000 30000 30000 30000 30000 30000 30000 30000 30000 30000 30000 30000 30000 30000 30000 30000 30000 30000 30000 30000 30000 30000 30000 30000 30000 30000 30000 30000 30000 30000 30000 30000 30000 30000 30000 30000 30000 30000 30000 30000 30000 30000 30000 30000 30000 30000 30000 30000 30000 30000 30000 30000 30000 30000 30000 30000 30000 30000 30000 30000 30000 30000 30000 30000 30000 30000 30000 30000 30000 30000 30000 30000 30000 30000 30000 30000 30000 30000 30000 30000 30000 30000 30000 30000 30000 30000 30000 30000 30000 30000 30000 30000 30000 30000 30000 30000 30000 30000 30000 30000 30000 30000 30000 30000 30000 30000 30000 30000 30000 30000 30000 30000 30000 30000 30000 30000 30000 30000 30000 30000 30000 30000 30000 30000 30000 30000 30000 30000 30000 30000 30000 30000 30000 30000 30000 30000 30000 30000 30000 30000 30000 30000 30000 30000 30000 30000 30000 30000 30000 30000 30000 30000 30000 30000 30000 30000 30000 30000 30000 30000 30000 30000 30000 30000 30000 30000 30000 30000 30000 30000 30000 30000 30000 30000 30000 30000 30000 30000 30000 30000 30000 30000 30000 30000 30000 30000 30000 30000 30000 30000 30000 30000 30000 30000 30000 30000 30000 30000 30000 30000 30000 30000 30000 30000 30000 30000 30000 30000 30000 30000 30000 30000 30000 30000 30000 30000 30000 30000 30000 30000 30000 30000 30000 30000 30000 30000 30000 30000 30000 30000 30000 30000 30000 30000 30000 30000 30000 30000 30000 30000 30000 30000 30000 30000 30000 30000 30000 30000 30000 30000 30000 30000 30000 30000 30000 30000 30000 30000 30000 30000 30000 30000 30000 30000 30000 30000 30000 30000 30000 30000 30000 30000 30000 30000 30000 30000 30000 30000 30000 30000 30000 30000 30000 30000 30000 30000 30000 30000 30000 30000 30000 30000 30000 30000 30000 30000 30000 30000 30000 30000 30000 30000 30000 30000 30000 30000 30000 30000 30000 30000 30000 30000 30000 30000 30000 30000 30000 30000 30000 30000 30000 30000 30000 30000 30000 30000 30000 30000 30000 30000 30000 30000 30000 30000 30000 30000 30000 30000 30000 30000 30000 30000 30000 30000 30000 30000 30000 30000 30000 30000 30000 30000 30000 30000 30000 30000 30000 30000 30000 30000 30000 30000 30000 30000 30000 30000 30000 30000 30000 30000 30000 30000 30000 30000 30000 30000 30000 30000 30000 30000 30000 30000 30000 30000 30000 30000 30000 30000 30000 30000 30000 30000 30000 30000 30000 30000 30000 30000 30000 30000 30000 30000 30000 30000 30000 30000 30000 30000 30000 30000 30000 30000 30000 30000 30000 30000 30000 30000 30000 30000 30000 30000 30000 30000 30000 30000 30000 30000 30000 30000 30000 30000 30000 30000 30000 30000 30000 30000 30000 30000 30000 30000 30000 30000 30000 30000 30000 30000 30000 30000 30000 30000 30000 30000 30000 30000 30000 30000 30000 30000 30000 30000 30000 30000 30000 30000 30000 30000 30000 30000 30000 30000 30000 30000 30000 30000 30000 30000 30000 30000 30000 30000 30000 30000 30000 30000 30000 30000 30000 30000 30000 30000 30000 30000 30000 30000 30000 30000 30000 30000 30000 30000 30000 30000 30000 30000 30000 30000 30000 30000 30000 30000 30000 30000 30000 30000 30000 30000 30000 30000 30000 30000 30000 30000 30000 30000 30000 30000 30000 30000 30000 30000 30000 30000 30000 30000 30000 30000 30000 30000 30000 30000 30000 30000 30000 30000 30000 30000 30000 30000 30000 30000 30000 30000 30000 30000 30000 30000 30000 30000 30000 30000 30000 30000 30000 30000 30000 30000 30000 30000 30000 30000 30000 30000 30000 30000 30000 30000 30000 30000 30000 30000 30000 30000 30000 30000 30000 30000 30000 30000 30000 30000 30000 30000 30000 30000 30000 30000 30000 30000 30000 30000 30000 30000 30000 30000 30000 30000 30000 30000 30000 30000 30000 30000 30000 30000 30000 30000 30000 30000 30000 30000 30000 30000 30000 30000 30000 30000 30000 30000 30000 30000 30000 30000 30000 30000 30000 30000 30000 30000 30000 30000 30000 30000 30000 30000 30000 30000 30000 30000 30000 30000 30000 30000 30000 30000 30000 30000 30000 30000 30000 30000 30000 30000 30000 30000 30000 30000 30000 30000 30000 30000 30000 30000 30000 30000 30000 30000 30000 30000 30000 30000 30000 30000 30000 30000 30000 30000 30000 30000 30000 30000 30000 30000 30000 30000 30000 30000 30000 30000 30000 30000 30000 30000 30000 30000 30000 30000 30000 30000 30000 30000 30000 30000 30000 30000 30000 30000 30000 30000 30000 30000 30000 30000 30000 30000 30000 30000 30000 30000 30000 30000 30000 30000 30000 30000 30000 30000 30000 30000 30000 30000 30000 30000 30000 30000 30000 30000 30000 30000 30000 30000 30000 30000 30000 30000 30000 30000 30000 30000 30000 30000 30000 30000 30000 30000 30000 30000 30000 30000 30000 30000 30000 30000 30000 30000 30000 30000 30000 30000 30000 30000 30000 30000 30000 30000 30000 30000 30000 30000 30000 30000 30000 30000 30000 30000 30000 30000 30000 30000 30000 30000 30000 30000 30000 30000 30000 30000 30000 30000 30000 30000 30000 30000 30000 30000 30000 30000 30000 30000 30000 30000 30000 30000 30000 30000 30000 30000 30000 30000 30000 30000 30000 30000 30000 30000 30000 30000 30000 30000 30000 30000 30000 30000 30000 30000 30000 30000 30000 30000 30000 30000 30000 30000 30000 30000 30000 30000 30000 30000 30000 30000 30000 30000 30000 30000 30000 30000 30000 30000 30000 30000 30000 30000 30000 30000 30000 30000 30000 30000 30000 30000 30000 30000 30000 30000 30000 30000 30000 30000 30000 30000 30000 30000 30000 30000 30000 30000 30000 30000 30000 30000 30000 30000 30000 30000 30000 30000 30000 30000 30000 30000 30000 30000 30000 30000 30000 30000 30000 30000 30000 30000 30000 30000 30000 30000 30000 30000 30000 30000 30000 30000 30000 30000 30000 30000 30000 30000 30000 30000 30000 30000 30000 30000 30000 30000 30000 30000 30000 30000 30000 30000 30000 30000 30000 30000 30000 30000 30000 30000 30000 30000 30000 30000 30000 30000 30000 30000 30000 30000 30000 30000 30000 30000 30000 30000 30000 30000 30000 30000 30000 30000 30000 30000 30000 30000 30000 30000 30000 30000 30000 30000 30000 30000 30000 30000 30000 30000 30000 30000 30000 30000 30000 30000 30000 30000 30000 30000 30000 30000 30000 30000 30000 30000 30000 30000 30000 30000 30000 30000 30000 30000 30000 30000 30000 30000 30000 30000 30000 30000 30000 30000 30000 30000 30000 30000 30000 30000 30000 30000 30000 30000 30000 30000 30000 30000 30000 30000 30000 30000 30000 30000 30000 30000 30000 30000 30000 30000 30000 30000 30000 30000 30000 30000 30000 30000 30000 30000 30000 30000 30000 30000 30000 30000 30000 30000 30000 30000 30000 30000 30000 30000 30000 30000 30000 30000 30000 30000 30000 30000 30000 30000 30000 30000 30000 30000 30000 30000 30000 30000 30000 30000 30000 30000 30000 30000 30000 30000 30000 30000 30000 30000 30000 30000 30000 30000 30000 30000 30000 30000 30000 30000 30000 30000 30000 30000 30000 30000 30000 30000 30000 30000 30000 30000 30000 30000 30000 30000 30000 30000 30000 30000 30000 30000 30000 30000 30000 30000 30000 30000 30000 30000 30000 30000 30000 30000 30000 30000 30000 30000 30000 30000 30000 30000 30000 30000 30000 30000 30000 30000 30000 30000 30000 30000 30000 30000 30000 30000 30000 30000 30000 30000 30000 30000 30000 30000 30000 30000 30000 30000 30000 30000 30000 30000 30000 30000 30000 30000 30000 30000 30000 30000 30000 30000 30000 30000 30000 30000 30000 30000 30000 30000 30000 30000 30000 30000 30000 30000 30000 30000 30000 30000 30000 30000 30000 30000 30000 30000 30000 30000 30000 30000 30000 30000 30000 30000 30000 30000 30000 30000 30000 30000 30000 30000 30000 30000 30000 30000 30000 30000 30000 30000 30000 30000 30000 30000 30000 30000 30000 30000 30000 30000 30000 30000 30000 30000 30000 30000 30000 30000 30000 30000 30000 30000 30000 30000 30000 30000 30000 30000 30000 30000 30000 30000 30000 30000 30000 30000 30000 30000 30000 30000 30000 30000 30000 30000 30000 30000 30000 30000 30000 30000 30000 30000 30000 30000 30000 30000 30000 30000 30000 30000 30000 30000 30000 30000 30000 30000 30000 30000 30000 30000 30000 30000 30000 30000 30000 30000 30000 30000 30000 30000 30000 30000 30000 30000 30000 30000 30000 30000 30000 30000 30000 30000 30000 30000 30000 30000 30000 30000 30000 30000 30000 30000 30000 30000 30000 30000 30000 30000 30000 30000 30000 30000 30000 30000 30000 30000 30000 30000 30000 30000 30000 30000 30000 30000 30000 30000 30000 30000 30000 30000 30000 30000 30000 30000 30000 30000 30000 30000 30000 30000 30000 30000 30000 30000 30000 30000 30000 30000 30000 30000 30000 30000 30000 30000 30000 30000 30000 30000 30000 30000 30000 30000 30000 30000 30000 30000 30000 30000 30000 30000 30000 30000 30000 30000 30000 30000 30000 30000 30000 30000 30000 30000 30000 30000 30000 30000 30000 30000 30000 30000 30000 30000 30000 30000 30000 30000 30000 30000 30000 30000 30000 30000 30000 30000 30000 30000 30000 30000 30000 30000 30000 30000 30000 30000 30000 30000 30000 30000 30000 30000 30000 30000 30000 30000 30000 30000 30000 30000 30000 30000 30000 30000 30000 30000 30000 30000 30000 30000 30000 30000 30000 30000 30000 30000 30000 30000 30000 30000 30000 30000 30000 30000 30000 30000 30000 30000 30000 30000 30000 30000 30000 30000 30000 30000 30000 30000 30000 30000 30000 30000 30000 30000 30000 30000 30000 30000 30000 30000 30000 30000 30000 30000 30000 30000 30000 30000 30000 30000 30000 30000 30000 30000 30000 30000 30000 30000 30000 30000 30000 30000 30000 30000 30000 30000 30000 30000 30000 30000 30000 30000 30000 30000 30000 30000 30000 30000 30000 30000 30000 30000 30000 30000 30000 30000 30000 30000 30000 30000 30000 30000 30000 30000 30000 30000 30000 30000 30000 30000 30000 30000 30000 30000 30000 30000 30000 30000 30000 30000 30000 30000 30000 30000 30000 30000 30000 30000 30000 30000 30000 30000 30000 30000 30000 30000 30000 30000 30000 30000 30000 30000 30000 30000 30000 30000 30000 30000 30000 30000 30000 30000 30000 30000 30000 30000 30000 30000 30000 30000 30000 30000 30000 30000 30000 30000 30000 30000 30000 30000 30000 30000 30000 30000 30000 30000 30000 30000 30000 30000 30000 30000 30000 30000 30000 30000 30000 30000 30000 30000 30000 30000 30000 30000 30000 30000 30000 30000 30000 30000 30000 30000 30000 30000 30000 30000 30000 30000 30000 30000 30000 30000 30000 30000 30000 30000 30000 30000 30000 30000 30000 30000 30000 30000 30000 30000 30000 30000 30000 30000 30000 30000 30000 30000 30000 30000 30000 30000 30000 30000 30000 30000 30000 30000 30000 30000 30000 30000 30000 30000 30000 30000 30000 30000 30000 30000 30000 30000 30000 30000 30000 30000 30000 30000 30000 30000 30000 30000 30000 30000 30000 30000 30000 30000 30000 30000 30000 30000 30000 30000 30000 30000 30000 30000 30000 30000 30000 30000 30000 30000 30000 30000 30000 30000 30000 30000 30000 30000 30000 30000 30000 30000 30000 30000 30000 30000 30000 30000 30000 30000 30000 30000 30000 30000 30000 30000 30000 30000 30000 30000 30000 30000 30000 30000 30000 30000 30000 30000 30000 30000 30000 30000 30000 30000 30000 30000 30000 30000 30000 30000 30000 30000 30000 30000 30000 30000 30000 30000 30000 30000 30000 30000 30000 30000 30000 30000 30000 30000 30000 30000 30000 30000 30000 30000 30000 30000 30000 30000 30000 30000 30000 30000 30000 30000 30000 30000 30000 30000 30000 30000 30000 30000 30000 30000 30000 30000 30000 30000 30000 30000 30000 30000 30000 30000 30000 30000 30000 30000 30000 30000 30000 30000 30000 30000 30000 30000 30000 30000 30000 30000 30000 30000 30000 30000 30000 30000 30000 30000 30000 30000 30000 30000 30000 30000 30000 30000 30000 30000 30000 30000 30000 30000 30000 30000 30000 30000 30000 30000 30000 30000 30000 30000 30000 30000 30000 30000 30000 30000 30000 30000 30000 30000 30000 30000 30000 30000 30000 30000 30000 30000 30000 30000 30000 30000 30000 30000 30000 30000 30000 30000 30000 30000 30000 30000 30000 30000 30000 30000 30000 30000 30000 30000 30000 30000 30000 30000 30000 30000 30000 30000 30000 30000 30000 30000 30000 30000 30000 30000 30000 30000 30000 30000 30000 30000 30000 30000 30000 30000 30000 30000 30000 30000 30000 30000 30000 30000 30000 30000 30000 30000 30000 30000 30000 30000 30000 30000 30000 30000 30000 30000 30000 30000 30000 30000 30000 30000 30000 30000 30000 30000 30000 30000 30000 30000 30000 30000 30000 30000 30000 30000 30000 30000 30000 30000 30000 30000 30000 30000 30000 30000 30000 30000 30000 30000 30000 30000 30000 30000 30000 30000 30000 30000 30000 30000 30000 30000 30000 30000 30000 30000 30000 30000 30000 30000 30000 30000 30000 30000 30000 30000 30000 30000 30000 30000 30000 30000 30000 30000 30000 30000 30000 30000 30000 30000 30000 30000 30000 30000 30000 30000 30000 30000 30000 30000 30000 30000 30000 30000 30000 30000 30000 30000 30000 30000 30000 30000 30000 30000 30000 30000 30000 30000 30000 30000 30000 30000 30000 30000 30000 30000 30000 30000 30000 30000 30000 30000 30000 30000 30000 30000 30000 30000 30000 30000 30000 30000 30000 30000 30000 30000 30000 30000 30000 30000 30000 30000 30000 30000 30000 30000 30000 30000 30000 30000 30000 30000 30000 30000 30000 30000 30000 30000 30000 30000 30000 30000 30000 30000 30000 30000 30000 30000 30000 30000 30000 30000 30000 30000 30000 30000 30000 30000 30000 30000 30000 30000 30000 30000 30000 30000 30000 30000 30000 30000 30000 30000 30000 30000 30000 30000 30000 30000 30000 30000 30000 30000 30000 30000 30000 30000 30000 30000 30000 30000 30000 30000 30000 30000 30000 30000 30000 30000 30000 30000 30000 30000 30000 30000 30000 30000 30000 30000 30000 30000 30000 30000 30000 30000 30000 30000 30000 30000 30000 30000 30000 30000 30000 30000 30000 30000 30000 30000 30000 30000 30000 30000 30000 30000 30000 30000 30000 30000 30000 30000 30000 30000 30000 30000 30000 30000 30000 30000 30000 30000 30000 30000 30000 30000 30000 30000 30000 30000 30000 30000 30000 30000 30000 30000 30000 30000 30000 30000 30000 30000 30000 30000 30000 30000 30000 30000 30000 30000 30000 30000 30000 30000 30000 30000 30000 30000 30000 30000 30000 30000 30000 30000 30000 30000 30000 30000 30000 30000 30000 30000 30000 30000 30000 30000 30000 30000 30000 30000 30000 30000 30000 30000 30000 30000 30000 30000 30000 30000 30000 30000 30000 30000 30000 30000 30000 30000 30000 30000 30000 30000 30000 30000 30000 30000 30000 30000 30000 30000 30000 30000 30000 30000 30000 30000 30000 30000 30000 30000 30000 30000 30000 30000 30000 30000 30000 30000 30000 30000 30000 30000 30000 30000 30000 30000 30000 30000 30000 30000 30000 30000 30000 30000 30000 30000 30000 30000 30000 30000 30000 30000 30000 30000 30000 30000 30000 30000 30000 30000 30000 30000 30000 30000 30000 30000 30000 30000 30000 30000 30000 30000 30000 30000 30000 30000 30000 30000 30000 30000 30000 30000 30000 30000 30000 30000 30000 30000 30000 30000 30000 30000 30000 30000 30000 30000 30000 30000 30000 30000 30000 30000 30000 30000 30000 30000 30000 30000 30000 30000 30000 30000 30000 30000 30000 30000 30000 30000 30000 30000 30000 30000 30000 30000 30000 30000 30000 30000 30000 30000 30000 30000 30000 30000 30000 30000 30000 30000 30000 30000 30000 30000 30000 30000 30000 30000 30000 30000 30000 30000 30000 30000 30000 30000 30000 30000 30000 30000 30000 30000 30000 30000 30000 30000 30000 30000 30000 30000 30000 30000 30000 30000 30000 30000 30000 30000 30000 30000 30000 30000 30000 30000 30000 30000 30000 30000 30000 30000 30000 30000 30000 30000 30000 30000 30000 30000 30000 30000 30000 30000 30000 30000 30000 30000 30000 30000 30000 30000 30000 30000 30000 30000 30000 30000 30000 30000 30000 30000 30000 30000 30000 30000 30000 30000 30000 30000 30000 30000 30000 30000 30000 30000 30000 30000 30000 30000 30000 30000 30000 30000 30000 30000 30000 30000 30000 30000 30000 30000 30000 30000 30000 30000 30000 30000 30000 30000 30000 30000 30000 30000 30000 30000 30000 30000 30000 30000 30000 30000 30000 30000 30000 30000 30000 30000 30000 30000 30000 30000 30000 30000 30000 30000 30000 30000 30000 30000 30000 30000 30000 30000 30000 30000 30000 30000 30000 30000 30000 30000 30000 30000 30000 30000 30000 30000 30000 30000 30000 30000 30000 30000 30000 30000 30000 30000 30000 30000 30000 30000 30000 30000 30000 30000 30000 30000 30000 30000 30000 30000 30000 30000 30000 30000 30000 30000 30000 30000 30000 30000 30000 30000 30000 30000 30000 30000 30000 30000 30000 30000 30000 30000 30000 30000 30000 30000 30000 30000 30000 30000 30000 30000 30000 30000 30000 30000 30000 30000 30000 30000 30000 30000 30000 30000 30000 30000 30000 30000 30000 30000 30000 30000 30000 30000 30000 30000 30000 30000 30000 30000 30000 30000 30000 30000 30000 30000 30000 30000 30000 30000 30000 30000 30000 30000 30000 30000 30000 30000 30000 30000 30000 30000 30000 30000 30000 30000 30000 30000 30000 30000 30000 30000 30000 30000 30000 30000 30000 30000 30000 30000 30000 30000 30000 30000 30000 30000 30000 30000 30000 30000 30000 30000 30000 30000 30000 30000 30000 30000 30000 30000 30000 30000 30000 30000 30000 30000 30000 30000 30000 30000 30000 30000 30000 30000 30000 30000 30000 30000 30000 30000 30000 30000 30000 30000 30000 30000 30000 30000 30000 30000 30000 30000 30000 30000 30000 30000 30000 30000 30000 30000 30000 30000 30000 30000 30000 30000 30000 30000 30000 30000 30000 30000 30000 30000 30000 30000 30000 30000 30000 30000 30000 30000 30000 30000 30000 30000 30000 30000 30000 30000 30000 30000 30000 30000 30000 30000 30000 30000 30000 30000 30000 30000 30000 30000 30000 30000 30000 30000 30000 30000 30000 30000 30000 30000 30000 30000 30000 30000 30000 30000 30000 30000 30000 30000 30000 30000 30000 30000 30000 30000 30000 30000 30000 30000 30000 30000 30000 30000 30000 30000 30000 30000 30000 30000 30000 30000 30000 30000 30000 30000 30000 30000 30000 30000 30000 30000 30000 30000 30000 30000 30000 30000 30000 30000 30000 30000 30000 30000 30000 30000 30000 30000 30000 30000 30000 30000 30000 30000 30000 30000 30000 30000 30000 30000 30000 30000 30000 30000 30000 30000 30000 30000 30000 30000 30000 30000 30000 30000 30000 30000 30000 30000 30000 30000 30000 30000 30000 30000 30000 30000 30000 30000 30000 30000 30000 30000 30000 30000 30000 30000 30000 30000 30000 30000 30000 30000 30000 30000 30000 30000 30000 30000 30000 30000 30000 30000 30000 30000 30000 30000 30000 30000 30000 30000 30000 30000 30000 30000 30000 30000 30000 30000 30000 30000 30000 30000 30000 30000 30000 30000 30000 30000 30000 30000 30000 30000 30000 30000 30000 30000 30000 30000 30000 30000 30000 30000 30000 30000 30000 30000 30000 30000 30000 30000 30000 30000 30000 30000 30000 30000 30000 30000 30000 30000 30000 30000 30000 30000 30000 30000 30000 30000 30000 30000 30000 30000 30000 30000 30000 30000 30000 30000 30000 30000 30000 30000 30000 30000 30000 30000 30000 30000 30000 30000 30000 30000 30000 30000 30000 30000 30000 30000 30000 30000 30000 30000 30000 30000 30000 30000 30000 30000 30000 30000 30000 30000 30000 30000 30000 30000 30000 30000 30000 30000 30000 30000 30000 30000 30000 30000 30000 30000 30000 30000 30000 30000 30000 30000 30000 30000 30000 30000 30000 30000 30000 30000 30000 30000 30000 30000 30000 30000 30000 30000 30000 30000 30000 30000 30000 30000 30000 30000 30000 30000 30000 30000 30000 30000 30000 30000 30000 30000 30000 30000 30000 30000 30000 30000 30000 30000 30000 30000 30000 30000 30000 30000 30000 30000 30000 30000 30000 30000 30000 30000 30000 30000 30000 30000 30000 30000 30000 30000 30000 30000 30000 30000 30000 30000 30000 30000 30000 30000 30000 30000 30000 30000 30000 30000 30000 30000 30000 30000 30000 30000 30000 30000 30000 30000 30000 30000 30000 30000 30000 30000 30000 30000 30000 30000 30000 30000 30000 30000 30000 30000 30000 30000 30000 30000 30000 30000 30000 30000 30000 30000 30000 30000 30000 30000 30000 30000 30000 30000 30000 30000 30000 30000 30000 30000 30000 30000 30000 30000 30000 30000 30000 30000 30000 30000 30000 30000 30000 30000 30000 30000 30000 30000 30000 30000 30000 30000 30000 30000 30000 30000 30000 30000 30000 30000 30000 30000 30000 30000 30000 30000 30000 30000 30000 30000 30000 30000 30000 30000 30000 30000 30000 30000 30000 30000 30000 30000 30000 30000 30000 30000 30000 30000 30000 30000 30000 30000 30000 30000 30000 30000 30000 30000 30000 30000 30000 30000 30000 30000 30000 30000 30000 30000 30000 30000 30000 30000 30000 30000 30000 30000 30000 30000 30000 30000 30000 30000 30000 30000 30000 30000 30000 30000 30000 30000 30000 30000 30000 30000 30000 30000 30000 30000 30000 30000 30000 30000 30000 30000 30000 30000 30000 30000 30000 30000 30000 30000 30000 30000 30000 30000 30000 30000 30000 30000 30000 30000 30000 30000 30000 30000 30000 30000 30000 30000 30000 30000 30000 30000 30000 30000 30000 30000 30000 30000 30000 30000 30000 30000 30000 30000 30000 30000 30000 30000 30000 30000 30000 30000 30000 30000 30000 30000 30000 30000 30000 30000 30000 30000 30000 30000 30000 30000 30000 30000 30000 30000 30000 30000 30000 30000 30000 30000 30000 30000 30000 30000 30000 30000 30000 30000 30000 30000 30000 30000 30000 30000 30000 30000 30000 30000 30000 30000 30000 30000 \n",
            "1\n"
          ]
        }
      ]
    }
  ]
}