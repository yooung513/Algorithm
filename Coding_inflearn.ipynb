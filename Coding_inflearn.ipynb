{
  "nbformat": 4,
  "nbformat_minor": 0,
  "metadata": {
    "colab": {
      "provenance": [],
      "authorship_tag": "ABX9TyPfP0hO48hS4C+vFse/BZsl",
      "include_colab_link": true
    },
    "kernelspec": {
      "name": "python3",
      "display_name": "Python 3"
    },
    "language_info": {
      "name": "python"
    }
  },
  "cells": [
    {
      "cell_type": "markdown",
      "metadata": {
        "id": "view-in-github",
        "colab_type": "text"
      },
      "source": [
        "<a href=\"https://colab.research.google.com/github/yooung513/CodingTest/blob/main/Coding_inflearn.ipynb\" target=\"_parent\"><img src=\"https://colab.research.google.com/assets/colab-badge.svg\" alt=\"Open In Colab\"/></a>"
      ]
    },
    {
      "cell_type": "markdown",
      "source": [
        "# 파이썬 기초 문법"
      ],
      "metadata": {
        "id": "xXkVicZsnncQ"
      }
    },
    {
      "cell_type": "code",
      "execution_count": 1,
      "metadata": {
        "colab": {
          "base_uri": "https://localhost:8080/"
        },
        "id": "DR1aGY5vmXRM",
        "outputId": "eb10d37f-a54d-4e20-e16e-0ccd7b80fff5"
      },
      "outputs": [
        {
          "output_type": "execute_result",
          "data": {
            "text/plain": [
              "5"
            ]
          },
          "metadata": {},
          "execution_count": 1
        }
      ],
      "source": [
        "2+3"
      ]
    },
    {
      "cell_type": "code",
      "source": [
        "# 한 번에 여러 변수 대입 \n",
        "\n",
        "a, b, c = 3, 2, 1\n",
        "print(a,b,c)"
      ],
      "metadata": {
        "colab": {
          "base_uri": "https://localhost:8080/"
        },
        "id": "qMCfNQ9IqIzn",
        "outputId": "1ec33d12-371c-4570-ef94-07a07d70a0bd"
      },
      "execution_count": 2,
      "outputs": [
        {
          "output_type": "stream",
          "name": "stdout",
          "text": [
            "3 2 1\n"
          ]
        }
      ]
    },
    {
      "cell_type": "code",
      "source": [
        "# 값 교환\n",
        "\n",
        "a, b = 10, 20 \n",
        "print(a, b)\n",
        "\n",
        "a, b = b, a\n",
        "print(a, b)"
      ],
      "metadata": {
        "colab": {
          "base_uri": "https://localhost:8080/"
        },
        "id": "A8BMg2fxqKG2",
        "outputId": "d076edec-1af4-444c-8528-59c4f968415c"
      },
      "execution_count": 3,
      "outputs": [
        {
          "output_type": "stream",
          "name": "stdout",
          "text": [
            "10 20\n",
            "20 10\n"
          ]
        }
      ]
    },
    {
      "cell_type": "code",
      "source": [
        "# 변수 타입\n",
        "\n",
        "#정수형\n",
        "a = 12345\n",
        "print(type(a))\n",
        "\n",
        "#실수형\n",
        "a = 12.345\n",
        "print(type(a)) \n",
        "\n",
        "#문자형\n",
        "a = 'student'\n",
        "print(type(a)) "
      ],
      "metadata": {
        "colab": {
          "base_uri": "https://localhost:8080/"
        },
        "id": "5ChFTBROqWu0",
        "outputId": "c66123af-92e9-4932-c0f7-cbe1b19c2d52"
      },
      "execution_count": 6,
      "outputs": [
        {
          "output_type": "stream",
          "name": "stdout",
          "text": [
            "<class 'int'>\n",
            "<class 'float'>\n",
            "<class 'str'>\n"
          ]
        }
      ]
    },
    {
      "cell_type": "code",
      "source": [
        "# 출력방식\n",
        "\n",
        "print(\"number\")\n",
        "\n",
        "a, b, c=1, 2, 3\n",
        "print(a, b, c)\n",
        "print(\"number\", a, b, c)\n",
        "print(\"number :\", a, b, c)\n",
        "\n",
        "# 변수 사이 구분\n",
        "print(a,b,c, sep=', ')\n",
        "print(a,b,c, sep=',')\n",
        "print(a,b,c, sep='')\n",
        "print(a,b,c, sep='\\n') # 줄바꿈\n",
        "\n",
        "# 줄바꿈2\n",
        "print(\"********************************\")\n",
        "print(a)\n",
        "print(b)\n",
        "print(c)\n",
        "\n",
        "# 붙여서 출력\n",
        "print(\"********************************\")\n",
        "print(a, end='')\n",
        "print(b, end='')\n",
        "print(c)"
      ],
      "metadata": {
        "colab": {
          "base_uri": "https://localhost:8080/"
        },
        "id": "kFp0nd2sq0Fj",
        "outputId": "5839cc4d-266f-4c96-bb00-6c467c5128f8"
      },
      "execution_count": 16,
      "outputs": [
        {
          "output_type": "stream",
          "name": "stdout",
          "text": [
            "number\n",
            "1 2 3\n",
            "number 1 2 3\n",
            "number : 1 2 3\n",
            "1, 2, 3\n",
            "1,2,3\n",
            "123\n",
            "1\n",
            "2\n",
            "3\n",
            "********************************\n",
            "1\n",
            "2\n",
            "3\n",
            "********************************\n",
            "123\n"
          ]
        }
      ]
    },
    {
      "cell_type": "code",
      "source": [
        "'''\n",
        "a = input(\"숫자를 입력하세요 :\")\n",
        "print(a)\n",
        "\n",
        "# split() = 띄어쓰기로 숫자 구분\n",
        "a, b = input(\"숫자를 입력하세요 :\").split()\n",
        "print(a, b)\n",
        "print(a+b)\n",
        "print(type(a))\n",
        "\n",
        "#int로 변환 후 연산\n",
        "a, b = input(\"숫자를 입력하세요 :\").split()\n",
        "a = int(a)\n",
        "b = int(b)\n",
        "print(type(a))\n",
        "print(a+b)\n",
        "\n",
        "\n",
        "\n",
        "'''\n",
        "\n",
        "#int로 받기 -> map을 아용하여 정수화하여 저장\n",
        "a, b = map(int, input(\"숫자를 입력하세요 :\").split())\n",
        "print(type(a))\n",
        "print(a+b)\n",
        "print(a-b)\n",
        "print(a*b)\n",
        "print(a/b)\n",
        "print(a//b)   # 몫 연산\n",
        "print(a%b)    # 나머지 연산\n",
        "print(a**b)   # 거듭제곱 연산\n"
      ],
      "metadata": {
        "colab": {
          "base_uri": "https://localhost:8080/"
        },
        "id": "KL1jgv6TsgW7",
        "outputId": "56b946c6-0527-441f-c8c7-06bb39f05120"
      },
      "execution_count": 29,
      "outputs": [
        {
          "output_type": "stream",
          "name": "stdout",
          "text": [
            "숫자를 입력하세요 :5 3\n",
            "<class 'int'>\n",
            "8\n",
            "2\n",
            "15\n",
            "1.6666666666666667\n",
            "1\n",
            "2\n",
            "125\n"
          ]
        }
      ]
    },
    {
      "cell_type": "code",
      "source": [
        "# 참 == / 거짓 !=\n",
        "\n",
        "# x = 7\n",
        "x = 5\n",
        "\n",
        "if x == 7 : \n",
        "  print('Lucky')\n",
        "  print(\"ㅋㅋ\")   #들여쓰기 잘못하면 에러발생\n",
        "\n",
        "if x!=7 : \n",
        "  print(\"lucky~\")"
      ],
      "metadata": {
        "colab": {
          "base_uri": "https://localhost:8080/"
        },
        "id": "d2xFlR0mu5v2",
        "outputId": "de49088f-bf5f-4798-8ebd-6a1bd6605bd2"
      },
      "execution_count": 33,
      "outputs": [
        {
          "output_type": "stream",
          "name": "stdout",
          "text": [
            "lucky~\n"
          ]
        }
      ]
    },
    {
      "cell_type": "code",
      "source": [
        "# 중첩\n",
        "\n",
        "'''\n",
        "#x = 15\n",
        "#x = 12\n",
        "x = 9\n",
        "if x >= 10 : \n",
        "  if x % 2 == 1 :             # 나머지\n",
        "    print(\"10이상의 홀수\")\n",
        "\n",
        "\n",
        "x = 9\n",
        "if x > 0 : \n",
        "  if x < 10:\n",
        "     print(\"10보다 작은 자연수\")\n",
        "\n",
        "\n",
        "x = 7\n",
        "if x > 0 and x < 10 : \n",
        "  print(\"10보다 작은 자연수\")\n",
        "'''\n",
        "\n",
        "x = 7\n",
        "if 0 < x < 10 : \n",
        "  print(\"10보다 작은 자연수\")"
      ],
      "metadata": {
        "colab": {
          "base_uri": "https://localhost:8080/"
        },
        "id": "3gFwGBqyvb0N",
        "outputId": "ec30214b-d76c-4192-f5af-0703b1b60887"
      },
      "execution_count": 39,
      "outputs": [
        {
          "output_type": "stream",
          "name": "stdout",
          "text": [
            "10보다 작은 자연수\n"
          ]
        }
      ]
    },
    {
      "cell_type": "code",
      "source": [
        "# 분기\n",
        "\n",
        "#x = 10 \n",
        "x = -1\n",
        "\n",
        "if x > 0: \n",
        "  print(\"양수\")\n",
        "else :\n",
        "  print(\"음수\")"
      ],
      "metadata": {
        "colab": {
          "base_uri": "https://localhost:8080/"
        },
        "id": "wRaDjD0XwfrZ",
        "outputId": "fb114a31-e14a-4568-80c1-e19bb089586d"
      },
      "execution_count": 42,
      "outputs": [
        {
          "output_type": "stream",
          "name": "stdout",
          "text": [
            "음수\n"
          ]
        }
      ]
    },
    {
      "cell_type": "code",
      "source": [
        "# 다중 if문\n",
        "# 위에 하나먼저 걸리면 출력하고 끝남\n",
        "\n",
        "x = 80\n",
        "if x >= 90 : \n",
        "  print(\"A\")\n",
        "elif x >= 80 : \n",
        "  print(\"B\")\n",
        "elif x >= 70 : \n",
        "  print(\"C\")\n",
        "elif x >= 60 : \n",
        "  print(\"D\")\n",
        "else : \n",
        "  print(\"F\")"
      ],
      "metadata": {
        "colab": {
          "base_uri": "https://localhost:8080/"
        },
        "id": "B-s1ClvXx9cR",
        "outputId": "06f4a69a-ea02-4f9e-955f-d54389dae6c7"
      },
      "execution_count": 46,
      "outputs": [
        {
          "output_type": "stream",
          "name": "stdout",
          "text": [
            "B\n"
          ]
        }
      ]
    }
  ]
}